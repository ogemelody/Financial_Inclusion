{
 "cells": [
  {
   "cell_type": "code",
   "execution_count": 192,
   "metadata": {},
   "outputs": [],
   "source": [
    "import numpy as np \n",
    "import pandas as pd \n",
    "import matplotlib.pyplot as plt\n",
    "from sklearn.preprocessing import StandardScaler\n",
    "from sklearn.metrics import mean_squared_error\n",
    "from sklearn.model_selection import train_test_split\n",
    "from sklearn.model_selection import KFold\n",
    "from xgboost import XGBClassifier\n",
    "from sklearn.linear_model import LinearRegression"
   ]
  },
  {
   "cell_type": "code",
   "execution_count": 193,
   "metadata": {},
   "outputs": [],
   "source": [
    "train = pd.read_csv('Train.csv')\n",
    "test = pd.read_csv('Test.csv')"
   ]
  },
  {
   "cell_type": "code",
   "execution_count": 194,
   "metadata": {},
   "outputs": [
    {
     "data": {
      "text/plain": [
       "(56000, 52)"
      ]
     },
     "execution_count": 194,
     "metadata": {},
     "output_type": "execute_result"
    }
   ],
   "source": [
    "train.shape"
   ]
  },
  {
   "cell_type": "code",
   "execution_count": 195,
   "metadata": {},
   "outputs": [
    {
     "data": {
      "text/plain": [
       "(24000, 51)"
      ]
     },
     "execution_count": 195,
     "metadata": {},
     "output_type": "execute_result"
    }
   ],
   "source": [
    "test.shape"
   ]
  },
  {
   "cell_type": "code",
   "execution_count": 196,
   "metadata": {},
   "outputs": [
    {
     "name": "stdout",
     "output_type": "stream",
     "text": [
      "<class 'pandas.core.frame.DataFrame'>\n",
      "RangeIndex: 24000 entries, 0 to 23999\n",
      "Data columns (total 51 columns):\n",
      " #   Column        Non-Null Count  Dtype  \n",
      "---  ------        --------------  -----  \n",
      " 0   Applicant_ID  24000 non-null  object \n",
      " 1   form_field1   22890 non-null  float64\n",
      " 2   form_field2   22291 non-null  float64\n",
      " 3   form_field3   23854 non-null  float64\n",
      " 4   form_field4   23854 non-null  float64\n",
      " 5   form_field5   23854 non-null  float64\n",
      " 6   form_field6   18396 non-null  float64\n",
      " 7   form_field7   21769 non-null  float64\n",
      " 8   form_field8   18396 non-null  float64\n",
      " 9   form_field9   20600 non-null  float64\n",
      " 10  form_field10  23853 non-null  float64\n",
      " 11  form_field11  10602 non-null  float64\n",
      " 12  form_field12  19817 non-null  float64\n",
      " 13  form_field13  21537 non-null  float64\n",
      " 14  form_field14  24000 non-null  int64  \n",
      " 15  form_field15  14408 non-null  float64\n",
      " 16  form_field16  18526 non-null  float64\n",
      " 17  form_field17  19305 non-null  float64\n",
      " 18  form_field18  19631 non-null  float64\n",
      " 19  form_field19  24000 non-null  float64\n",
      " 20  form_field20  23853 non-null  float64\n",
      " 21  form_field21  17293 non-null  float64\n",
      " 22  form_field22  15276 non-null  float64\n",
      " 23  form_field23  11875 non-null  float64\n",
      " 24  form_field24  18395 non-null  float64\n",
      " 25  form_field25  21744 non-null  float64\n",
      " 26  form_field26  20828 non-null  float64\n",
      " 27  form_field27  20090 non-null  float64\n",
      " 28  form_field28  23853 non-null  float64\n",
      " 29  form_field29  23853 non-null  float64\n",
      " 30  form_field30  13092 non-null  float64\n",
      " 31  form_field31  7190 non-null   float64\n",
      " 32  form_field32  21744 non-null  float64\n",
      " 33  form_field33  23505 non-null  float64\n",
      " 34  form_field34  23853 non-null  float64\n",
      " 35  form_field35  14134 non-null  float64\n",
      " 36  form_field36  23097 non-null  float64\n",
      " 37  form_field37  21744 non-null  float64\n",
      " 38  form_field38  23853 non-null  float64\n",
      " 39  form_field39  22171 non-null  float64\n",
      " 40  form_field40  5172 non-null   float64\n",
      " 41  form_field41  7651 non-null   float64\n",
      " 42  form_field42  23422 non-null  float64\n",
      " 43  form_field43  23750 non-null  float64\n",
      " 44  form_field44  21638 non-null  float64\n",
      " 45  form_field45  10462 non-null  float64\n",
      " 46  form_field46  17115 non-null  float64\n",
      " 47  form_field47  24000 non-null  object \n",
      " 48  form_field48  15078 non-null  float64\n",
      " 49  form_field49  23854 non-null  float64\n",
      " 50  form_field50  19203 non-null  float64\n",
      "dtypes: float64(48), int64(1), object(2)\n",
      "memory usage: 9.3+ MB\n"
     ]
    }
   ],
   "source": [
    "test.info()"
   ]
  },
  {
   "cell_type": "code",
   "execution_count": 197,
   "metadata": {},
   "outputs": [],
   "source": [
    "train.form_field1  = train. form_field1.fillna(train. form_field1.mean())\n",
    "test. form_field1  = test.form_field1.fillna(test. form_field1.mean())\n",
    "\n",
    "train.form_field2  = train. form_field2.fillna(train.form_field2.mean())\n",
    "test. form_field2  = test.form_field2.fillna(test. form_field2.mean())\n",
    "\n",
    "train.form_field3  = train. form_field3.fillna(train.form_field3.mean())\n",
    "test. form_field3  = test.form_field3.fillna(test. form_field3.mean())\n",
    "\n",
    "train.form_field4  = train. form_field4.fillna(train.form_field4.mean())\n",
    "test. form_field4  = test.form_field4.fillna(test. form_field4.mean())\n",
    "\n",
    "train.form_field5  = train. form_field5.fillna(train.form_field5.mean())\n",
    "test. form_field5  = test.form_field35.fillna(test. form_field5.mean())\n",
    "\n",
    "train.form_field6  = train. form_field6.fillna(train.form_field6.mean())\n",
    "test. form_field6  = test.form_field6.fillna(test. form_field6.mean())\n",
    "\n",
    "train.form_field7  = train. form_field7.fillna(train.form_field7.mean())\n",
    "test. form_field7  = test.form_field7.fillna(test. form_field7.mean())\n",
    "\n",
    "train.form_field8  = train. form_field8.fillna(train.form_field8.mean())\n",
    "test. form_field8  = test.form_field8.fillna(test. form_field8.mean())\n",
    "\n",
    "train.form_field9  = train. form_field9.fillna(train.form_field9.mean())\n",
    "test. form_field9  = test.form_field9.fillna(test. form_field9.mean())\n",
    "\n",
    "train.form_field10  = train. form_field10.fillna(train.form_field10.mean())\n",
    "test. form_field10  = test.form_field10.fillna(test. form_field10.mean())\n",
    "\n",
    "train.form_field11  = train. form_field11.fillna(train.form_field11.mean())\n",
    "test. form_field11  = test.form_field11.fillna(test. form_field11.mean())\n",
    "\n",
    "train.form_field12  = train. form_field12.fillna(train.form_field12.mean())\n",
    "test. form_field12  = test.form_field12.fillna(test. form_field12.mean())\n",
    "\n",
    "train.form_field13  = train. form_field13.fillna(train.form_field13.mean())\n",
    "test. form_field13  = test.form_field13.fillna(test. form_field13.mean())\n",
    "\n",
    "train.form_field15 = train. form_field15.fillna(train.form_field15.mean())\n",
    "test. form_field15  = test.form_field15.fillna(test. form_field15.mean())\n",
    "\n",
    "train.form_field16  = train. form_field16.fillna(train.form_field16.mean())\n",
    "test. form_field16  = test.form_field16.fillna(test. form_field16.mean())\n",
    "\n",
    "train.form_field17  = train. form_field17.fillna(train.form_field17.mean())\n",
    "test. form_field17  = test.form_field17.fillna(test. form_field17.mean())\n",
    "\n",
    "train.form_field18  = train. form_field18.fillna(train.form_field18.mean())\n",
    "test. form_field18  = test.form_field18.fillna(test. form_field18.mean())\n",
    "\n",
    "train.form_field20  = train. form_field20.fillna(train.form_field20.mean())\n",
    "test. form_field20  = test.form_field20.fillna(test. form_field20.mean())\n",
    "\n",
    "train.form_field21  = train. form_field21.fillna(train.form_field21.mean())\n",
    "test. form_field21  = test.form_field21.fillna(test. form_field21.mean())\n",
    "\n",
    "train.form_field22  = train. form_field22.fillna(train.form_field22.mean())\n",
    "test. form_field22  = test.form_field22.fillna(test. form_field22.mean())\n",
    "\n",
    "train.form_field23  = train. form_field23.fillna(train.form_field23.mean())\n",
    "test. form_field23  = test.form_field23.fillna(test. form_field23.mean())\n",
    "\n",
    "train.form_field24  = train. form_field24.fillna(train.form_field24.mean())\n",
    "test. form_field24  = test.form_field24.fillna(test. form_field24.mean())\n",
    "\n",
    "train.form_field25  = train. form_field25.fillna(train.form_field25.mean())\n",
    "test. form_field25  = test.form_field25.fillna(test. form_field25.mean())\n",
    "\n",
    "train.form_field26  = train. form_field26.fillna(train.form_field26.mean())\n",
    "test. form_field26 = test.form_field26.fillna(test. form_field26.mean())\n",
    "\n",
    "train.form_field27  = train. form_field27.fillna(train.form_field27.mean())\n",
    "test. form_field27 = test.form_field27.fillna(test. form_field27.mean())\n",
    "\n",
    "train.form_field28  = train. form_field28.fillna(train.form_field28.mean())\n",
    "test. form_field28  = test.form_field28.fillna(test. form_field28.mean())\n",
    "\n",
    "train.form_field29  = train. form_field29.fillna(train.form_field29.mean())\n",
    "test. form_field29  = test.form_field29.fillna(test. form_field29.mean())\n",
    "\n",
    "train.form_field30  = train. form_field30.fillna(train.form_field30.mean())\n",
    "test. form_field30  = test.form_field30.fillna(test. form_field30.mean())\n",
    "\n",
    "train.form_field31  = train. form_field31.fillna(train.form_field31.mean())\n",
    "test. form_field31  = test.form_field31.fillna(test. form_field31.mean())\n",
    "\n",
    "train.form_field32  = train. form_field32.fillna(train.form_field32.mean())\n",
    "test. form_field32  = test.form_field32.fillna(test. form_field32.mean())\n",
    "\n",
    "train.form_field33  = train. form_field33.fillna(train.form_field33.mean())\n",
    "test. form_field33  = test.form_field33.fillna(test. form_field33.mean())\n",
    "\n",
    "train.form_field34  = train. form_field34.fillna(train.form_field34.mean())\n",
    "test. form_field34  = test.form_field34.fillna(test. form_field34.mean())\n",
    "\n",
    "train.form_field35  = train. form_field35.fillna(train.form_field35.mean())\n",
    "test. form_field35 = test.form_field35.fillna(test. form_field35.mean())\n",
    "\n",
    "train.form_field36  = train. form_field36.fillna(train.form_field36.mean())\n",
    "test. form_field36 = test.form_field36.fillna(test. form_field36.mean())\n",
    "\n",
    "train.form_field37  = train. form_field37.fillna(train.form_field37.mean())\n",
    "test. form_field37  = test.form_field37.fillna(test. form_field37.mean())\n",
    "\n",
    "train.form_field38  = train. form_field38.fillna(train.form_field38.mean())\n",
    "test. form_field38  = test.form_field38.fillna(test. form_field38.mean())\n",
    "\n",
    "train.form_field39  = train. form_field39.fillna(train.form_field39.mean())\n",
    "test. form_field39  = test.form_field39.fillna(test. form_field39.mean())\n",
    "\n",
    "train.form_field40  = train. form_field40.fillna(train.form_field40.mean())\n",
    "test. form_field40  = test.form_field40.fillna(test. form_field40.mean())\n",
    "\n",
    "train.form_field41  = train. form_field41.fillna(train.form_field41.mean())\n",
    "test. form_field41  = test.form_field41.fillna(test. form_field41.mean())\n",
    "\n",
    "train.form_field42  = train. form_field42.fillna(train.form_field42.mean())\n",
    "test. form_field42  = test.form_field42.fillna(test. form_field42.mean())\n",
    "\n",
    "train.form_field43  = train. form_field43.fillna(train.form_field43.mean())\n",
    "test. form_field43  = test.form_field43.fillna(test. form_field43.mean())\n",
    "\n",
    "train.form_field44  = train. form_field44.fillna(train.form_field44.mean())\n",
    "test. form_field44  = test.form_field44.fillna(test. form_field44.mean())\n",
    "\n",
    "train.form_field45  = train. form_field45.fillna(train.form_field45.mean())\n",
    "test. form_field45 = test.form_field45.fillna(test. form_field45.mean())\n",
    "\n",
    "train.form_field46  = train. form_field46.fillna(train.form_field46.mean())\n",
    "test. form_field46  = test.form_field46.fillna(test. form_field46.mean())\n",
    "\n",
    "\n",
    "train.form_field48 = train. form_field48.fillna(train.form_field48.mean())\n",
    "test. form_field48 = test.form_field48.fillna(test. form_field48.mean())\n",
    "\n",
    "train.form_field49  = train. form_field49.fillna(train.form_field49.mean())\n",
    "test. form_field49  = test.form_field49.fillna(test. form_field49.mean())\n",
    "\n",
    "train.form_field50  = train. form_field50.fillna(train.form_field50.mean())\n",
    "test. form_field50  = test.form_field50.fillna(test. form_field50.mean())\n"
   ]
  },
  {
   "cell_type": "code",
   "execution_count": 198,
   "metadata": {},
   "outputs": [
    {
     "name": "stdout",
     "output_type": "stream",
     "text": [
      "<class 'pandas.core.frame.DataFrame'>\n",
      "RangeIndex: 24000 entries, 0 to 23999\n",
      "Data columns (total 51 columns):\n",
      " #   Column        Non-Null Count  Dtype  \n",
      "---  ------        --------------  -----  \n",
      " 0   Applicant_ID  24000 non-null  object \n",
      " 1   form_field1   24000 non-null  float64\n",
      " 2   form_field2   24000 non-null  float64\n",
      " 3   form_field3   24000 non-null  float64\n",
      " 4   form_field4   24000 non-null  float64\n",
      " 5   form_field5   24000 non-null  float64\n",
      " 6   form_field6   24000 non-null  float64\n",
      " 7   form_field7   24000 non-null  float64\n",
      " 8   form_field8   24000 non-null  float64\n",
      " 9   form_field9   24000 non-null  float64\n",
      " 10  form_field10  24000 non-null  float64\n",
      " 11  form_field11  24000 non-null  float64\n",
      " 12  form_field12  24000 non-null  float64\n",
      " 13  form_field13  24000 non-null  float64\n",
      " 14  form_field14  24000 non-null  int64  \n",
      " 15  form_field15  24000 non-null  float64\n",
      " 16  form_field16  24000 non-null  float64\n",
      " 17  form_field17  24000 non-null  float64\n",
      " 18  form_field18  24000 non-null  float64\n",
      " 19  form_field19  24000 non-null  float64\n",
      " 20  form_field20  24000 non-null  float64\n",
      " 21  form_field21  24000 non-null  float64\n",
      " 22  form_field22  24000 non-null  float64\n",
      " 23  form_field23  24000 non-null  float64\n",
      " 24  form_field24  24000 non-null  float64\n",
      " 25  form_field25  24000 non-null  float64\n",
      " 26  form_field26  24000 non-null  float64\n",
      " 27  form_field27  24000 non-null  float64\n",
      " 28  form_field28  24000 non-null  float64\n",
      " 29  form_field29  24000 non-null  float64\n",
      " 30  form_field30  24000 non-null  float64\n",
      " 31  form_field31  24000 non-null  float64\n",
      " 32  form_field32  24000 non-null  float64\n",
      " 33  form_field33  24000 non-null  float64\n",
      " 34  form_field34  24000 non-null  float64\n",
      " 35  form_field35  24000 non-null  float64\n",
      " 36  form_field36  24000 non-null  float64\n",
      " 37  form_field37  24000 non-null  float64\n",
      " 38  form_field38  24000 non-null  float64\n",
      " 39  form_field39  24000 non-null  float64\n",
      " 40  form_field40  24000 non-null  float64\n",
      " 41  form_field41  24000 non-null  float64\n",
      " 42  form_field42  24000 non-null  float64\n",
      " 43  form_field43  24000 non-null  float64\n",
      " 44  form_field44  24000 non-null  float64\n",
      " 45  form_field45  24000 non-null  float64\n",
      " 46  form_field46  24000 non-null  float64\n",
      " 47  form_field47  24000 non-null  object \n",
      " 48  form_field48  24000 non-null  float64\n",
      " 49  form_field49  24000 non-null  float64\n",
      " 50  form_field50  24000 non-null  float64\n",
      "dtypes: float64(48), int64(1), object(2)\n",
      "memory usage: 9.3+ MB\n"
     ]
    }
   ],
   "source": [
    "test.info()"
   ]
  },
  {
   "cell_type": "code",
   "execution_count": 199,
   "metadata": {},
   "outputs": [],
   "source": [
    "test = test.drop('Applicant_ID',axis=1)\n",
    "train = train.drop('Applicant_ID',axis=1)"
   ]
  },
  {
   "cell_type": "code",
   "execution_count": 200,
   "metadata": {},
   "outputs": [
    {
     "data": {
      "text/plain": [
       "no     42285\n",
       "yes    13715\n",
       "Name: default_status, dtype: int64"
      ]
     },
     "execution_count": 200,
     "metadata": {},
     "output_type": "execute_result"
    }
   ],
   "source": [
    "#test['form_field14'].value_counts()\n",
    "train['default_status'].value_counts()"
   ]
  },
  {
   "cell_type": "code",
   "execution_count": 201,
   "metadata": {},
   "outputs": [],
   "source": [
    "test['form_field47']=test['form_field47'].map({'charge':0,'lending':1})\n",
    "train['form_field47']= train['form_field47'].map({'charge':0,'lending':1})"
   ]
  },
  {
   "cell_type": "raw",
   "metadata": {},
   "source": []
  },
  {
   "cell_type": "code",
   "execution_count": 202,
   "metadata": {},
   "outputs": [
    {
     "name": "stdout",
     "output_type": "stream",
     "text": [
      "<class 'pandas.core.frame.DataFrame'>\n",
      "RangeIndex: 56000 entries, 0 to 55999\n",
      "Data columns (total 51 columns):\n",
      " #   Column          Non-Null Count  Dtype  \n",
      "---  ------          --------------  -----  \n",
      " 0   form_field1     56000 non-null  float64\n",
      " 1   form_field2     56000 non-null  float64\n",
      " 2   form_field3     56000 non-null  float64\n",
      " 3   form_field4     56000 non-null  float64\n",
      " 4   form_field5     56000 non-null  float64\n",
      " 5   form_field6     56000 non-null  float64\n",
      " 6   form_field7     56000 non-null  float64\n",
      " 7   form_field8     56000 non-null  float64\n",
      " 8   form_field9     56000 non-null  float64\n",
      " 9   form_field10    56000 non-null  float64\n",
      " 10  form_field11    56000 non-null  float64\n",
      " 11  form_field12    56000 non-null  float64\n",
      " 12  form_field13    56000 non-null  float64\n",
      " 13  form_field14    56000 non-null  int64  \n",
      " 14  form_field15    56000 non-null  float64\n",
      " 15  form_field16    56000 non-null  float64\n",
      " 16  form_field17    56000 non-null  float64\n",
      " 17  form_field18    56000 non-null  float64\n",
      " 18  form_field19    55996 non-null  float64\n",
      " 19  form_field20    56000 non-null  float64\n",
      " 20  form_field21    56000 non-null  float64\n",
      " 21  form_field22    56000 non-null  float64\n",
      " 22  form_field23    56000 non-null  float64\n",
      " 23  form_field24    56000 non-null  float64\n",
      " 24  form_field25    56000 non-null  float64\n",
      " 25  form_field26    56000 non-null  float64\n",
      " 26  form_field27    56000 non-null  float64\n",
      " 27  form_field28    56000 non-null  float64\n",
      " 28  form_field29    56000 non-null  float64\n",
      " 29  form_field30    56000 non-null  float64\n",
      " 30  form_field31    56000 non-null  float64\n",
      " 31  form_field32    56000 non-null  float64\n",
      " 32  form_field33    56000 non-null  float64\n",
      " 33  form_field34    56000 non-null  float64\n",
      " 34  form_field35    56000 non-null  float64\n",
      " 35  form_field36    56000 non-null  float64\n",
      " 36  form_field37    56000 non-null  float64\n",
      " 37  form_field38    56000 non-null  float64\n",
      " 38  form_field39    56000 non-null  float64\n",
      " 39  form_field40    56000 non-null  float64\n",
      " 40  form_field41    56000 non-null  float64\n",
      " 41  form_field42    56000 non-null  float64\n",
      " 42  form_field43    56000 non-null  float64\n",
      " 43  form_field44    56000 non-null  float64\n",
      " 44  form_field45    56000 non-null  float64\n",
      " 45  form_field46    56000 non-null  float64\n",
      " 46  form_field47    56000 non-null  int64  \n",
      " 47  form_field48    56000 non-null  float64\n",
      " 48  form_field49    56000 non-null  float64\n",
      " 49  form_field50    56000 non-null  float64\n",
      " 50  default_status  56000 non-null  object \n",
      "dtypes: float64(48), int64(2), object(1)\n",
      "memory usage: 21.8+ MB\n"
     ]
    }
   ],
   "source": [
    "train.info()"
   ]
  },
  {
   "cell_type": "code",
   "execution_count": 203,
   "metadata": {},
   "outputs": [],
   "source": [
    "\n",
    "train['default_status']=train['default_status'].map({'no':0,'yes':1})"
   ]
  },
  {
   "cell_type": "code",
   "execution_count": 204,
   "metadata": {},
   "outputs": [],
   "source": [
    "test = test.drop('form_field47',axis=1)\n",
    "train = train.drop('form_field47',axis=1)\n",
    "\n",
    "test = test.drop('form_field14',axis=1)\n",
    "train = train.drop('form_field14',axis=1)"
   ]
  },
  {
   "cell_type": "code",
   "execution_count": 205,
   "metadata": {},
   "outputs": [
    {
     "name": "stdout",
     "output_type": "stream",
     "text": [
      "<class 'pandas.core.frame.DataFrame'>\n",
      "RangeIndex: 56000 entries, 0 to 55999\n",
      "Data columns (total 49 columns):\n",
      " #   Column          Non-Null Count  Dtype  \n",
      "---  ------          --------------  -----  \n",
      " 0   form_field1     56000 non-null  float64\n",
      " 1   form_field2     56000 non-null  float64\n",
      " 2   form_field3     56000 non-null  float64\n",
      " 3   form_field4     56000 non-null  float64\n",
      " 4   form_field5     56000 non-null  float64\n",
      " 5   form_field6     56000 non-null  float64\n",
      " 6   form_field7     56000 non-null  float64\n",
      " 7   form_field8     56000 non-null  float64\n",
      " 8   form_field9     56000 non-null  float64\n",
      " 9   form_field10    56000 non-null  float64\n",
      " 10  form_field11    56000 non-null  float64\n",
      " 11  form_field12    56000 non-null  float64\n",
      " 12  form_field13    56000 non-null  float64\n",
      " 13  form_field15    56000 non-null  float64\n",
      " 14  form_field16    56000 non-null  float64\n",
      " 15  form_field17    56000 non-null  float64\n",
      " 16  form_field18    56000 non-null  float64\n",
      " 17  form_field19    55996 non-null  float64\n",
      " 18  form_field20    56000 non-null  float64\n",
      " 19  form_field21    56000 non-null  float64\n",
      " 20  form_field22    56000 non-null  float64\n",
      " 21  form_field23    56000 non-null  float64\n",
      " 22  form_field24    56000 non-null  float64\n",
      " 23  form_field25    56000 non-null  float64\n",
      " 24  form_field26    56000 non-null  float64\n",
      " 25  form_field27    56000 non-null  float64\n",
      " 26  form_field28    56000 non-null  float64\n",
      " 27  form_field29    56000 non-null  float64\n",
      " 28  form_field30    56000 non-null  float64\n",
      " 29  form_field31    56000 non-null  float64\n",
      " 30  form_field32    56000 non-null  float64\n",
      " 31  form_field33    56000 non-null  float64\n",
      " 32  form_field34    56000 non-null  float64\n",
      " 33  form_field35    56000 non-null  float64\n",
      " 34  form_field36    56000 non-null  float64\n",
      " 35  form_field37    56000 non-null  float64\n",
      " 36  form_field38    56000 non-null  float64\n",
      " 37  form_field39    56000 non-null  float64\n",
      " 38  form_field40    56000 non-null  float64\n",
      " 39  form_field41    56000 non-null  float64\n",
      " 40  form_field42    56000 non-null  float64\n",
      " 41  form_field43    56000 non-null  float64\n",
      " 42  form_field44    56000 non-null  float64\n",
      " 43  form_field45    56000 non-null  float64\n",
      " 44  form_field46    56000 non-null  float64\n",
      " 45  form_field48    56000 non-null  float64\n",
      " 46  form_field49    56000 non-null  float64\n",
      " 47  form_field50    56000 non-null  float64\n",
      " 48  default_status  56000 non-null  int64  \n",
      "dtypes: float64(48), int64(1)\n",
      "memory usage: 20.9 MB\n"
     ]
    }
   ],
   "source": [
    "train.info()"
   ]
  },
  {
   "cell_type": "code",
   "execution_count": 206,
   "metadata": {},
   "outputs": [
    {
     "data": {
      "text/html": [
       "<div>\n",
       "<style scoped>\n",
       "    .dataframe tbody tr th:only-of-type {\n",
       "        vertical-align: middle;\n",
       "    }\n",
       "\n",
       "    .dataframe tbody tr th {\n",
       "        vertical-align: top;\n",
       "    }\n",
       "\n",
       "    .dataframe thead th {\n",
       "        text-align: right;\n",
       "    }\n",
       "</style>\n",
       "<table border=\"1\" class=\"dataframe\">\n",
       "  <thead>\n",
       "    <tr style=\"text-align: right;\">\n",
       "      <th></th>\n",
       "      <th>form_field1</th>\n",
       "      <th>form_field2</th>\n",
       "      <th>form_field3</th>\n",
       "      <th>form_field4</th>\n",
       "      <th>form_field5</th>\n",
       "      <th>form_field6</th>\n",
       "      <th>form_field7</th>\n",
       "      <th>form_field8</th>\n",
       "      <th>form_field9</th>\n",
       "      <th>form_field10</th>\n",
       "      <th>...</th>\n",
       "      <th>form_field41</th>\n",
       "      <th>form_field42</th>\n",
       "      <th>form_field43</th>\n",
       "      <th>form_field44</th>\n",
       "      <th>form_field45</th>\n",
       "      <th>form_field46</th>\n",
       "      <th>form_field48</th>\n",
       "      <th>form_field49</th>\n",
       "      <th>form_field50</th>\n",
       "      <th>default_status</th>\n",
       "    </tr>\n",
       "  </thead>\n",
       "  <tbody>\n",
       "    <tr>\n",
       "      <th>0</th>\n",
       "      <td>3436.0</td>\n",
       "      <td>0.28505</td>\n",
       "      <td>1.6560</td>\n",
       "      <td>0.0</td>\n",
       "      <td>0.000</td>\n",
       "      <td>0.000000</td>\n",
       "      <td>10689720.0</td>\n",
       "      <td>2.520720e+05</td>\n",
       "      <td>4272776.0</td>\n",
       "      <td>11333126.0</td>\n",
       "      <td>...</td>\n",
       "      <td>108.117363</td>\n",
       "      <td>0.392854</td>\n",
       "      <td>2.02</td>\n",
       "      <td>0.711632</td>\n",
       "      <td>0.00000</td>\n",
       "      <td>0.0</td>\n",
       "      <td>305244.932775</td>\n",
       "      <td>1.129518</td>\n",
       "      <td>0.044335</td>\n",
       "      <td>0</td>\n",
       "    </tr>\n",
       "    <tr>\n",
       "      <th>1</th>\n",
       "      <td>3456.0</td>\n",
       "      <td>0.67400</td>\n",
       "      <td>0.2342</td>\n",
       "      <td>0.0</td>\n",
       "      <td>0.000</td>\n",
       "      <td>0.000000</td>\n",
       "      <td>898979.0</td>\n",
       "      <td>4.975310e+05</td>\n",
       "      <td>9073814.0</td>\n",
       "      <td>2533168.0</td>\n",
       "      <td>...</td>\n",
       "      <td>108.117363</td>\n",
       "      <td>0.314281</td>\n",
       "      <td>8.08</td>\n",
       "      <td>0.183584</td>\n",
       "      <td>0.07252</td>\n",
       "      <td>0.0</td>\n",
       "      <td>349.805730</td>\n",
       "      <td>1.620483</td>\n",
       "      <td>0.322436</td>\n",
       "      <td>0</td>\n",
       "    </tr>\n",
       "    <tr>\n",
       "      <th>2</th>\n",
       "      <td>3276.0</td>\n",
       "      <td>0.53845</td>\n",
       "      <td>3.1510</td>\n",
       "      <td>0.0</td>\n",
       "      <td>6.282</td>\n",
       "      <td>624447.924437</td>\n",
       "      <td>956940.0</td>\n",
       "      <td>2.626690e+06</td>\n",
       "      <td>192944.0</td>\n",
       "      <td>1079864.0</td>\n",
       "      <td>...</td>\n",
       "      <td>108.117363</td>\n",
       "      <td>0.162965</td>\n",
       "      <td>18.18</td>\n",
       "      <td>0.791136</td>\n",
       "      <td>0.00000</td>\n",
       "      <td>0.0</td>\n",
       "      <td>305244.932775</td>\n",
       "      <td>1.513370</td>\n",
       "      <td>0.011640</td>\n",
       "      <td>1</td>\n",
       "    </tr>\n",
       "    <tr>\n",
       "      <th>3</th>\n",
       "      <td>3372.0</td>\n",
       "      <td>0.17005</td>\n",
       "      <td>0.5050</td>\n",
       "      <td>0.0</td>\n",
       "      <td>0.000</td>\n",
       "      <td>192166.000000</td>\n",
       "      <td>3044703.0</td>\n",
       "      <td>3.854990e+05</td>\n",
       "      <td>3986472.0</td>\n",
       "      <td>3621979.0</td>\n",
       "      <td>...</td>\n",
       "      <td>108.117363</td>\n",
       "      <td>0.488884</td>\n",
       "      <td>2.02</td>\n",
       "      <td>0.685168</td>\n",
       "      <td>0.07252</td>\n",
       "      <td>0.0</td>\n",
       "      <td>89.940100</td>\n",
       "      <td>0.664452</td>\n",
       "      <td>0.082729</td>\n",
       "      <td>0</td>\n",
       "    </tr>\n",
       "    <tr>\n",
       "      <th>4</th>\n",
       "      <td>3370.0</td>\n",
       "      <td>0.77270</td>\n",
       "      <td>1.1010</td>\n",
       "      <td>0.0</td>\n",
       "      <td>0.000</td>\n",
       "      <td>1556.000000</td>\n",
       "      <td>214728.0</td>\n",
       "      <td>2.147280e+05</td>\n",
       "      <td>1284089.0</td>\n",
       "      <td>361770.0</td>\n",
       "      <td>...</td>\n",
       "      <td>108.117363</td>\n",
       "      <td>0.275000</td>\n",
       "      <td>12.12</td>\n",
       "      <td>0.438168</td>\n",
       "      <td>0.00000</td>\n",
       "      <td>0.0</td>\n",
       "      <td>97.887502</td>\n",
       "      <td>1.427891</td>\n",
       "      <td>0.045630</td>\n",
       "      <td>0</td>\n",
       "    </tr>\n",
       "  </tbody>\n",
       "</table>\n",
       "<p>5 rows × 49 columns</p>\n",
       "</div>"
      ],
      "text/plain": [
       "   form_field1  form_field2  form_field3  form_field4  form_field5  \\\n",
       "0       3436.0      0.28505       1.6560          0.0        0.000   \n",
       "1       3456.0      0.67400       0.2342          0.0        0.000   \n",
       "2       3276.0      0.53845       3.1510          0.0        6.282   \n",
       "3       3372.0      0.17005       0.5050          0.0        0.000   \n",
       "4       3370.0      0.77270       1.1010          0.0        0.000   \n",
       "\n",
       "     form_field6  form_field7   form_field8  form_field9  form_field10  ...  \\\n",
       "0       0.000000   10689720.0  2.520720e+05    4272776.0    11333126.0  ...   \n",
       "1       0.000000     898979.0  4.975310e+05    9073814.0     2533168.0  ...   \n",
       "2  624447.924437     956940.0  2.626690e+06     192944.0     1079864.0  ...   \n",
       "3  192166.000000    3044703.0  3.854990e+05    3986472.0     3621979.0  ...   \n",
       "4    1556.000000     214728.0  2.147280e+05    1284089.0      361770.0  ...   \n",
       "\n",
       "   form_field41  form_field42  form_field43  form_field44  form_field45  \\\n",
       "0    108.117363      0.392854          2.02      0.711632       0.00000   \n",
       "1    108.117363      0.314281          8.08      0.183584       0.07252   \n",
       "2    108.117363      0.162965         18.18      0.791136       0.00000   \n",
       "3    108.117363      0.488884          2.02      0.685168       0.07252   \n",
       "4    108.117363      0.275000         12.12      0.438168       0.00000   \n",
       "\n",
       "   form_field46   form_field48  form_field49  form_field50  default_status  \n",
       "0           0.0  305244.932775      1.129518      0.044335               0  \n",
       "1           0.0     349.805730      1.620483      0.322436               0  \n",
       "2           0.0  305244.932775      1.513370      0.011640               1  \n",
       "3           0.0      89.940100      0.664452      0.082729               0  \n",
       "4           0.0      97.887502      1.427891      0.045630               0  \n",
       "\n",
       "[5 rows x 49 columns]"
      ]
     },
     "execution_count": 206,
     "metadata": {},
     "output_type": "execute_result"
    }
   ],
   "source": [
    "train.head()"
   ]
  },
  {
   "cell_type": "code",
   "execution_count": 207,
   "metadata": {},
   "outputs": [
    {
     "data": {
      "text/plain": [
       "(56000, 49)"
      ]
     },
     "execution_count": 207,
     "metadata": {},
     "output_type": "execute_result"
    }
   ],
   "source": [
    "train.shape"
   ]
  },
  {
   "cell_type": "code",
   "execution_count": 208,
   "metadata": {},
   "outputs": [
    {
     "data": {
      "text/plain": [
       "(24000, 48)"
      ]
     },
     "execution_count": 208,
     "metadata": {},
     "output_type": "execute_result"
    }
   ],
   "source": [
    "test.shape"
   ]
  },
  {
   "cell_type": "code",
   "execution_count": 209,
   "metadata": {},
   "outputs": [
    {
     "data": {
      "text/plain": [
       "(56000, 48)"
      ]
     },
     "execution_count": 209,
     "metadata": {},
     "output_type": "execute_result"
    }
   ],
   "source": [
    "X=train.drop(['default_status'], axis=1)\n",
    "y = train['default_status']\n",
    "test \n",
    "X.shape"
   ]
  },
  {
   "cell_type": "code",
   "execution_count": 210,
   "metadata": {},
   "outputs": [
    {
     "data": {
      "text/plain": [
       "(56000,)"
      ]
     },
     "execution_count": 210,
     "metadata": {},
     "output_type": "execute_result"
    }
   ],
   "source": [
    "y.shape"
   ]
  },
  {
   "cell_type": "code",
   "execution_count": 211,
   "metadata": {},
   "outputs": [],
   "source": [
    "linreg = LinearRegression()"
   ]
  },
  {
   "cell_type": "code",
   "execution_count": 212,
   "metadata": {},
   "outputs": [],
   "source": [
    "X_train,X_test,y_train,y_test = train_test_split(X,y,test_size=0.3,random_state=42)"
   ]
  },
  {
   "cell_type": "code",
   "execution_count": 215,
   "metadata": {},
   "outputs": [],
   "source": [
    "#from sklearn.metrics import mean_squared_error as mse\n",
    "#def rmse(y_true, y_pred):\n",
    "    #return np.sqrt(mse(y_true, y_pred))"
   ]
  },
  {
   "cell_type": "code",
   "execution_count": 216,
   "metadata": {},
   "outputs": [],
   "source": [
    "#print('linreg >>>',rmse(y_test,y_pred))"
   ]
  },
  {
   "cell_type": "code",
   "execution_count": 217,
   "metadata": {},
   "outputs": [],
   "source": [
    "mean_squared_error=mean_squared_error(y_test,y_pred)"
   ]
  },
  {
   "cell_type": "code",
   "execution_count": 218,
   "metadata": {},
   "outputs": [
    {
     "name": "stdout",
     "output_type": "stream",
     "text": [
      "MSE: 0.1506275657186919\n"
     ]
    }
   ],
   "source": [
    "print('MSE:',mean_squared_error)"
   ]
  },
  {
   "cell_type": "code",
   "execution_count": 221,
   "metadata": {},
   "outputs": [],
   "source": [
    "from sklearn.metrics import accuracy_score"
   ]
  },
  {
   "cell_type": "code",
   "execution_count": 230,
   "metadata": {},
   "outputs": [],
   "source": [
    "clf_xgb = XGBClassifier()"
   ]
  },
  {
   "cell_type": "code",
   "execution_count": 231,
   "metadata": {},
   "outputs": [],
   "source": [
    "clf_xgb=XGBClassifier(objective='binary:logistic',missing=None,seed=42)"
   ]
  },
  {
   "cell_type": "code",
   "execution_count": 232,
   "metadata": {},
   "outputs": [
    {
     "name": "stdout",
     "output_type": "stream",
     "text": [
      "[0]\tvalidation_0-aucpr:0.494892\n",
      "Will train until validation_0-aucpr hasn't improved in 10 rounds.\n",
      "[1]\tvalidation_0-aucpr:0.515761\n",
      "[2]\tvalidation_0-aucpr:0.524927\n",
      "[3]\tvalidation_0-aucpr:0.532719\n",
      "[4]\tvalidation_0-aucpr:0.538759\n",
      "[5]\tvalidation_0-aucpr:0.541968\n",
      "[6]\tvalidation_0-aucpr:0.549305\n",
      "[7]\tvalidation_0-aucpr:0.55074\n",
      "[8]\tvalidation_0-aucpr:0.551761\n",
      "[9]\tvalidation_0-aucpr:0.554242\n",
      "[10]\tvalidation_0-aucpr:0.556181\n",
      "[11]\tvalidation_0-aucpr:0.557043\n",
      "[12]\tvalidation_0-aucpr:0.558052\n",
      "[13]\tvalidation_0-aucpr:0.560826\n",
      "[14]\tvalidation_0-aucpr:0.563769\n",
      "[15]\tvalidation_0-aucpr:0.566301\n",
      "[16]\tvalidation_0-aucpr:0.566485\n",
      "[17]\tvalidation_0-aucpr:0.566012\n",
      "[18]\tvalidation_0-aucpr:0.56609\n",
      "[19]\tvalidation_0-aucpr:0.566791\n",
      "[20]\tvalidation_0-aucpr:0.569137\n",
      "[21]\tvalidation_0-aucpr:0.569162\n",
      "[22]\tvalidation_0-aucpr:0.570232\n",
      "[23]\tvalidation_0-aucpr:0.571852\n",
      "[24]\tvalidation_0-aucpr:0.571899\n",
      "[25]\tvalidation_0-aucpr:0.572583\n",
      "[26]\tvalidation_0-aucpr:0.573916\n",
      "[27]\tvalidation_0-aucpr:0.574962\n",
      "[28]\tvalidation_0-aucpr:0.575277\n",
      "[29]\tvalidation_0-aucpr:0.575581\n",
      "[30]\tvalidation_0-aucpr:0.576458\n",
      "[31]\tvalidation_0-aucpr:0.57702\n",
      "[32]\tvalidation_0-aucpr:0.577353\n",
      "[33]\tvalidation_0-aucpr:0.578426\n",
      "[34]\tvalidation_0-aucpr:0.578792\n",
      "[35]\tvalidation_0-aucpr:0.579518\n",
      "[36]\tvalidation_0-aucpr:0.580279\n",
      "[37]\tvalidation_0-aucpr:0.580411\n",
      "[38]\tvalidation_0-aucpr:0.580633\n",
      "[39]\tvalidation_0-aucpr:0.580999\n",
      "[40]\tvalidation_0-aucpr:0.581174\n",
      "[41]\tvalidation_0-aucpr:0.582363\n",
      "[42]\tvalidation_0-aucpr:0.582784\n",
      "[43]\tvalidation_0-aucpr:0.582896\n",
      "[44]\tvalidation_0-aucpr:0.583254\n",
      "[45]\tvalidation_0-aucpr:0.583691\n",
      "[46]\tvalidation_0-aucpr:0.584069\n",
      "[47]\tvalidation_0-aucpr:0.584591\n",
      "[48]\tvalidation_0-aucpr:0.58445\n",
      "[49]\tvalidation_0-aucpr:0.584793\n",
      "[50]\tvalidation_0-aucpr:0.584961\n",
      "[51]\tvalidation_0-aucpr:0.584885\n",
      "[52]\tvalidation_0-aucpr:0.585177\n",
      "[53]\tvalidation_0-aucpr:0.585196\n",
      "[54]\tvalidation_0-aucpr:0.585601\n",
      "[55]\tvalidation_0-aucpr:0.585677\n",
      "[56]\tvalidation_0-aucpr:0.585775\n",
      "[57]\tvalidation_0-aucpr:0.586485\n",
      "[58]\tvalidation_0-aucpr:0.586641\n",
      "[59]\tvalidation_0-aucpr:0.586985\n",
      "[60]\tvalidation_0-aucpr:0.587044\n",
      "[61]\tvalidation_0-aucpr:0.587557\n",
      "[62]\tvalidation_0-aucpr:0.587533\n",
      "[63]\tvalidation_0-aucpr:0.58832\n",
      "[64]\tvalidation_0-aucpr:0.588424\n",
      "[65]\tvalidation_0-aucpr:0.588899\n",
      "[66]\tvalidation_0-aucpr:0.589256\n",
      "[67]\tvalidation_0-aucpr:0.589269\n",
      "[68]\tvalidation_0-aucpr:0.589591\n",
      "[69]\tvalidation_0-aucpr:0.589646\n",
      "[70]\tvalidation_0-aucpr:0.589874\n",
      "[71]\tvalidation_0-aucpr:0.589746\n",
      "[72]\tvalidation_0-aucpr:0.590004\n",
      "[73]\tvalidation_0-aucpr:0.590266\n",
      "[74]\tvalidation_0-aucpr:0.590285\n",
      "[75]\tvalidation_0-aucpr:0.590433\n",
      "[76]\tvalidation_0-aucpr:0.590553\n",
      "[77]\tvalidation_0-aucpr:0.590855\n",
      "[78]\tvalidation_0-aucpr:0.591158\n",
      "[79]\tvalidation_0-aucpr:0.591261\n",
      "[80]\tvalidation_0-aucpr:0.5914\n",
      "[81]\tvalidation_0-aucpr:0.591547\n",
      "[82]\tvalidation_0-aucpr:0.591421\n",
      "[83]\tvalidation_0-aucpr:0.592097\n",
      "[84]\tvalidation_0-aucpr:0.59211\n",
      "[85]\tvalidation_0-aucpr:0.592511\n",
      "[86]\tvalidation_0-aucpr:0.592394\n",
      "[87]\tvalidation_0-aucpr:0.592666\n",
      "[88]\tvalidation_0-aucpr:0.592829\n",
      "[89]\tvalidation_0-aucpr:0.593054\n",
      "[90]\tvalidation_0-aucpr:0.593353\n",
      "[91]\tvalidation_0-aucpr:0.593513\n",
      "[92]\tvalidation_0-aucpr:0.593577\n",
      "[93]\tvalidation_0-aucpr:0.593594\n",
      "[94]\tvalidation_0-aucpr:0.59371\n",
      "[95]\tvalidation_0-aucpr:0.593703\n",
      "[96]\tvalidation_0-aucpr:0.593925\n",
      "[97]\tvalidation_0-aucpr:0.59397\n",
      "[98]\tvalidation_0-aucpr:0.594094\n",
      "[99]\tvalidation_0-aucpr:0.594203\n"
     ]
    },
    {
     "data": {
      "text/plain": [
       "XGBClassifier(base_score=0.5, booster='gbtree', colsample_bylevel=1,\n",
       "              colsample_bynode=1, colsample_bytree=1, gamma=0,\n",
       "              learning_rate=0.1, max_delta_step=0, max_depth=3,\n",
       "              min_child_weight=1, missing=None, n_estimators=100, n_jobs=1,\n",
       "              nthread=None, objective='binary:logistic', random_state=0,\n",
       "              reg_alpha=0, reg_lambda=1, scale_pos_weight=1, seed=42,\n",
       "              silent=None, subsample=1, verbosity=1)"
      ]
     },
     "execution_count": 232,
     "metadata": {},
     "output_type": "execute_result"
    }
   ],
   "source": [
    "clf_xgb.fit(X_train,y_train,verbose=True,early_stopping_rounds=10,eval_metric='aucpr',eval_set=[(X_test,y_test)])"
   ]
  },
  {
   "cell_type": "code",
   "execution_count": 235,
   "metadata": {},
   "outputs": [],
   "source": [
    "xgbpred = clf_xgb.predict(X_test)"
   ]
  },
  {
   "cell_type": "code",
   "execution_count": 229,
   "metadata": {},
   "outputs": [],
   "source": [
    "from sklearn.metrics import balanced_accuracy_score"
   ]
  },
  {
   "cell_type": "code",
   "execution_count": 237,
   "metadata": {},
   "outputs": [
    {
     "name": "stdout",
     "output_type": "stream",
     "text": [
      "0.7998214285714286\n"
     ]
    }
   ],
   "source": [
    "print (accuracy_score(y_test,xgbpred))"
   ]
  },
  {
   "cell_type": "code",
   "execution_count": null,
   "metadata": {},
   "outputs": [],
   "source": []
  }
 ],
 "metadata": {
  "kernelspec": {
   "display_name": "Python 3",
   "language": "python",
   "name": "python3"
  },
  "language_info": {
   "codemirror_mode": {
    "name": "ipython",
    "version": 3
   },
   "file_extension": ".py",
   "mimetype": "text/x-python",
   "name": "python",
   "nbconvert_exporter": "python",
   "pygments_lexer": "ipython3",
   "version": "3.7.6"
  }
 },
 "nbformat": 4,
 "nbformat_minor": 4
}
