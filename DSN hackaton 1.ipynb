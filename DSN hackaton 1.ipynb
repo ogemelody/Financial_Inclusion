{
 "cells": [
  {
   "cell_type": "code",
   "execution_count": 1,
   "metadata": {},
   "outputs": [],
   "source": [
    "import numpy as np\n",
    "import pandas as pd\n",
    "import matplotlib.pyplot as plt\n",
    "%matplotlib inline\n",
    "import seaborn as sns\n",
    "import sklearn.linear_model as lm"
   ]
  },
  {
   "cell_type": "code",
   "execution_count": 55,
   "metadata": {},
   "outputs": [],
   "source": [
    "from xgboost import XGBRegressor"
   ]
  },
  {
   "cell_type": "code",
   "execution_count": 56,
   "metadata": {},
   "outputs": [],
   "source": [
    "train = pd.read_csv('Train.csv')\n",
    "test = pd.read_csv('Test.csv')"
   ]
  },
  {
   "cell_type": "code",
   "execution_count": 57,
   "metadata": {},
   "outputs": [
    {
     "data": {
      "text/html": [
       "<div>\n",
       "<style scoped>\n",
       "    .dataframe tbody tr th:only-of-type {\n",
       "        vertical-align: middle;\n",
       "    }\n",
       "\n",
       "    .dataframe tbody tr th {\n",
       "        vertical-align: top;\n",
       "    }\n",
       "\n",
       "    .dataframe thead th {\n",
       "        text-align: right;\n",
       "    }\n",
       "</style>\n",
       "<table border=\"1\" class=\"dataframe\">\n",
       "  <thead>\n",
       "    <tr style=\"text-align: right;\">\n",
       "      <th></th>\n",
       "      <th>Product_Identifier</th>\n",
       "      <th>Supermarket_Identifier</th>\n",
       "      <th>Product_Supermarket_Identifier</th>\n",
       "      <th>Product_Weight</th>\n",
       "      <th>Product_Fat_Content</th>\n",
       "      <th>Product_Shelf_Visibility</th>\n",
       "      <th>Product_Type</th>\n",
       "      <th>Product_Price</th>\n",
       "      <th>Supermarket_Opening_Year</th>\n",
       "      <th>Supermarket _Size</th>\n",
       "      <th>Supermarket_Location_Type</th>\n",
       "      <th>Supermarket_Type</th>\n",
       "      <th>Average_Price_per_ProductType</th>\n",
       "    </tr>\n",
       "  </thead>\n",
       "  <tbody>\n",
       "    <tr>\n",
       "      <th>0</th>\n",
       "      <td>FDY57</td>\n",
       "      <td>CHUKWUDI013</td>\n",
       "      <td>FDY57_CHUKWUDI013</td>\n",
       "      <td>20.20</td>\n",
       "      <td>Normal Fat</td>\n",
       "      <td>0.121153</td>\n",
       "      <td>Snack Foods</td>\n",
       "      <td>243.44</td>\n",
       "      <td>1994</td>\n",
       "      <td>High</td>\n",
       "      <td>Cluster 3</td>\n",
       "      <td>Supermarket Type1</td>\n",
       "      <td>395.352190</td>\n",
       "    </tr>\n",
       "    <tr>\n",
       "      <th>1</th>\n",
       "      <td>FDY10</td>\n",
       "      <td>CHUKWUDI018</td>\n",
       "      <td>FDY10_CHUKWUDI018</td>\n",
       "      <td>17.60</td>\n",
       "      <td>Low Fat</td>\n",
       "      <td>0.049268</td>\n",
       "      <td>Snack Foods</td>\n",
       "      <td>282.54</td>\n",
       "      <td>2016</td>\n",
       "      <td>Medium</td>\n",
       "      <td>Cluster 3</td>\n",
       "      <td>Supermarket Type2</td>\n",
       "      <td>395.352190</td>\n",
       "    </tr>\n",
       "    <tr>\n",
       "      <th>2</th>\n",
       "      <td>FDO40</td>\n",
       "      <td>CHUKWUDI018</td>\n",
       "      <td>FDO40_CHUKWUDI018</td>\n",
       "      <td>17.10</td>\n",
       "      <td>Low Fat</td>\n",
       "      <td>0.032761</td>\n",
       "      <td>Frozen Foods</td>\n",
       "      <td>372.10</td>\n",
       "      <td>2016</td>\n",
       "      <td>Medium</td>\n",
       "      <td>Cluster 3</td>\n",
       "      <td>Supermarket Type2</td>\n",
       "      <td>388.071094</td>\n",
       "    </tr>\n",
       "    <tr>\n",
       "      <th>3</th>\n",
       "      <td>NCQ43</td>\n",
       "      <td>CHUKWUDI018</td>\n",
       "      <td>NCQ43_CHUKWUDI018</td>\n",
       "      <td>17.75</td>\n",
       "      <td>Low Fat</td>\n",
       "      <td>0.000000</td>\n",
       "      <td>Others</td>\n",
       "      <td>271.73</td>\n",
       "      <td>2016</td>\n",
       "      <td>Medium</td>\n",
       "      <td>Cluster 3</td>\n",
       "      <td>Supermarket Type2</td>\n",
       "      <td>388.607700</td>\n",
       "    </tr>\n",
       "    <tr>\n",
       "      <th>4</th>\n",
       "      <td>NCC07</td>\n",
       "      <td>CHUKWUDI046</td>\n",
       "      <td>NCC07_CHUKWUDI046</td>\n",
       "      <td>19.60</td>\n",
       "      <td>Low Fat</td>\n",
       "      <td>0.023951</td>\n",
       "      <td>Household</td>\n",
       "      <td>264.24</td>\n",
       "      <td>2004</td>\n",
       "      <td>Small</td>\n",
       "      <td>Cluster 1</td>\n",
       "      <td>Supermarket Type1</td>\n",
       "      <td>399.999418</td>\n",
       "    </tr>\n",
       "  </tbody>\n",
       "</table>\n",
       "</div>"
      ],
      "text/plain": [
       "  Product_Identifier Supermarket_Identifier Product_Supermarket_Identifier  \\\n",
       "0              FDY57            CHUKWUDI013              FDY57_CHUKWUDI013   \n",
       "1              FDY10            CHUKWUDI018              FDY10_CHUKWUDI018   \n",
       "2              FDO40            CHUKWUDI018              FDO40_CHUKWUDI018   \n",
       "3              NCQ43            CHUKWUDI018              NCQ43_CHUKWUDI018   \n",
       "4              NCC07            CHUKWUDI046              NCC07_CHUKWUDI046   \n",
       "\n",
       "   Product_Weight Product_Fat_Content  Product_Shelf_Visibility  Product_Type  \\\n",
       "0           20.20          Normal Fat                  0.121153   Snack Foods   \n",
       "1           17.60             Low Fat                  0.049268   Snack Foods   \n",
       "2           17.10             Low Fat                  0.032761  Frozen Foods   \n",
       "3           17.75             Low Fat                  0.000000        Others   \n",
       "4           19.60             Low Fat                  0.023951     Household   \n",
       "\n",
       "   Product_Price  Supermarket_Opening_Year Supermarket _Size  \\\n",
       "0         243.44                      1994              High   \n",
       "1         282.54                      2016            Medium   \n",
       "2         372.10                      2016            Medium   \n",
       "3         271.73                      2016            Medium   \n",
       "4         264.24                      2004             Small   \n",
       "\n",
       "  Supermarket_Location_Type   Supermarket_Type  Average_Price_per_ProductType  \n",
       "0                 Cluster 3  Supermarket Type1                     395.352190  \n",
       "1                 Cluster 3  Supermarket Type2                     395.352190  \n",
       "2                 Cluster 3  Supermarket Type2                     388.071094  \n",
       "3                 Cluster 3  Supermarket Type2                     388.607700  \n",
       "4                 Cluster 1  Supermarket Type1                     399.999418  "
      ]
     },
     "execution_count": 57,
     "metadata": {},
     "output_type": "execute_result"
    }
   ],
   "source": [
    "test.head()"
   ]
  },
  {
   "cell_type": "code",
   "execution_count": 58,
   "metadata": {},
   "outputs": [
    {
     "data": {
      "text/plain": [
       "(2994, 14)"
      ]
     },
     "execution_count": 58,
     "metadata": {},
     "output_type": "execute_result"
    }
   ],
   "source": [
    "train.shape"
   ]
  },
  {
   "cell_type": "code",
   "execution_count": 59,
   "metadata": {},
   "outputs": [
    {
     "name": "stdout",
     "output_type": "stream",
     "text": [
      "<class 'pandas.core.frame.DataFrame'>\n",
      "RangeIndex: 1996 entries, 0 to 1995\n",
      "Data columns (total 13 columns):\n",
      " #   Column                          Non-Null Count  Dtype  \n",
      "---  ------                          --------------  -----  \n",
      " 0   Product_Identifier              1996 non-null   object \n",
      " 1   Supermarket_Identifier          1996 non-null   object \n",
      " 2   Product_Supermarket_Identifier  1996 non-null   object \n",
      " 3   Product_Weight                  1667 non-null   float64\n",
      " 4   Product_Fat_Content             1996 non-null   object \n",
      " 5   Product_Shelf_Visibility        1996 non-null   float64\n",
      " 6   Product_Type                    1996 non-null   object \n",
      " 7   Product_Price                   1996 non-null   float64\n",
      " 8   Supermarket_Opening_Year        1996 non-null   int64  \n",
      " 9   Supermarket _Size               1430 non-null   object \n",
      " 10  Supermarket_Location_Type       1996 non-null   object \n",
      " 11  Supermarket_Type                1996 non-null   object \n",
      " 12  Average_Price_per_ProductType   1996 non-null   float64\n",
      "dtypes: float64(4), int64(1), object(8)\n",
      "memory usage: 202.8+ KB\n"
     ]
    }
   ],
   "source": [
    "test.info()"
   ]
  },
  {
   "cell_type": "code",
   "execution_count": 60,
   "metadata": {},
   "outputs": [],
   "source": [
    "#filling null values\n",
    "#train['Product_Weight'] = train['Product_Weight'].fillna(train['Product_Weight'].mean())`"
   ]
  },
  {
   "cell_type": "code",
   "execution_count": 61,
   "metadata": {},
   "outputs": [],
   "source": [
    "train.Product_Weight = train.Product_Weight.fillna(train.Product_Weight.mean())\n",
    "test.Product_Weight = test.Product_Weight.fillna(test.Product_Weight.mean())"
   ]
  },
  {
   "cell_type": "code",
   "execution_count": 62,
   "metadata": {},
   "outputs": [
    {
     "name": "stdout",
     "output_type": "stream",
     "text": [
      "<class 'pandas.core.frame.DataFrame'>\n",
      "RangeIndex: 2994 entries, 0 to 2993\n",
      "Data columns (total 14 columns):\n",
      " #   Column                          Non-Null Count  Dtype  \n",
      "---  ------                          --------------  -----  \n",
      " 0   Product_Identifier              2994 non-null   object \n",
      " 1   Supermarket_Identifier          2994 non-null   object \n",
      " 2   Product_Supermarket_Identifier  2994 non-null   object \n",
      " 3   Product_Weight                  2994 non-null   float64\n",
      " 4   Product_Fat_Content             2994 non-null   object \n",
      " 5   Product_Shelf_Visibility        2994 non-null   float64\n",
      " 6   Product_Type                    2994 non-null   object \n",
      " 7   Product_Price                   2994 non-null   float64\n",
      " 8   Supermarket_Opening_Year        2994 non-null   int64  \n",
      " 9   Supermarket _Size               2110 non-null   object \n",
      " 10  Supermarket_Location_Type       2994 non-null   object \n",
      " 11  Supermarket_Type                2994 non-null   object \n",
      " 12  Average_Price_per_ProductType   2994 non-null   float64\n",
      " 13  Product_Supermarket_Sales       2994 non-null   float64\n",
      "dtypes: float64(5), int64(1), object(8)\n",
      "memory usage: 327.6+ KB\n"
     ]
    }
   ],
   "source": [
    "train.info()"
   ]
  },
  {
   "cell_type": "code",
   "execution_count": 63,
   "metadata": {},
   "outputs": [
    {
     "data": {
      "text/plain": [
       "<matplotlib.axes._subplots.AxesSubplot at 0x2a17d16e708>"
      ]
     },
     "execution_count": 63,
     "metadata": {},
     "output_type": "execute_result"
    },
    {
     "data": {
      "image/png": "[encoded data removed]",
      "text/plain": [
       "<Figure size 432x288 with 1 Axes>"
      ]
     },
     "metadata": {
      "needs_background": "light"
     },
     "output_type": "display_data"
    }
   ],
   "source": [
    "train['Product_Fat_Content'].value_counts().plot.bar()"
   ]
  },
  {
   "cell_type": "code",
   "execution_count": 64,
   "metadata": {},
   "outputs": [
    {
     "data": {
      "text/plain": [
       "Low Fat          1829\n",
       "Normal Fat       1057\n",
       "Ultra Low fat     108\n",
       "Name: Product_Fat_Content, dtype: int64"
      ]
     },
     "execution_count": 64,
     "metadata": {},
     "output_type": "execute_result"
    }
   ],
   "source": [
    "train['Product_Fat_Content'].value_counts()"
   ]
  },
  {
   "cell_type": "code",
   "execution_count": 65,
   "metadata": {},
   "outputs": [],
   "source": [
    "test['Supermarket _Size'] = test['Supermarket _Size'].replace({ np.nan : \"Medium\"})\n",
    "train['Supermarket _Size'] = train['Supermarket _Size'].replace({ np.nan : \"Medium\"})"
   ]
  },
  {
   "cell_type": "code",
   "execution_count": 66,
   "metadata": {},
   "outputs": [
    {
     "name": "stdout",
     "output_type": "stream",
     "text": [
      "<class 'pandas.core.frame.DataFrame'>\n",
      "RangeIndex: 2994 entries, 0 to 2993\n",
      "Data columns (total 14 columns):\n",
      " #   Column                          Non-Null Count  Dtype  \n",
      "---  ------                          --------------  -----  \n",
      " 0   Product_Identifier              2994 non-null   object \n",
      " 1   Supermarket_Identifier          2994 non-null   object \n",
      " 2   Product_Supermarket_Identifier  2994 non-null   object \n",
      " 3   Product_Weight                  2994 non-null   float64\n",
      " 4   Product_Fat_Content             2994 non-null   object \n",
      " 5   Product_Shelf_Visibility        2994 non-null   float64\n",
      " 6   Product_Type                    2994 non-null   object \n",
      " 7   Product_Price                   2994 non-null   float64\n",
      " 8   Supermarket_Opening_Year        2994 non-null   int64  \n",
      " 9   Supermarket _Size               2994 non-null   object \n",
      " 10  Supermarket_Location_Type       2994 non-null   object \n",
      " 11  Supermarket_Type                2994 non-null   object \n",
      " 12  Average_Price_per_ProductType   2994 non-null   float64\n",
      " 13  Product_Supermarket_Sales       2994 non-null   float64\n",
      "dtypes: float64(5), int64(1), object(8)\n",
      "memory usage: 327.6+ KB\n"
     ]
    }
   ],
   "source": [
    "train.info()"
   ]
  },
  {
   "cell_type": "code",
   "execution_count": 67,
   "metadata": {},
   "outputs": [
    {
     "data": {
      "text/plain": [
       "Medium    1207\n",
       "Small      552\n",
       "High       237\n",
       "Name: Supermarket _Size, dtype: int64"
      ]
     },
     "execution_count": 67,
     "metadata": {},
     "output_type": "execute_result"
    }
   ],
   "source": [
    "test['Supermarket _Size'].value_counts()"
   ]
  },
  {
   "cell_type": "code",
   "execution_count": 68,
   "metadata": {},
   "outputs": [],
   "source": [
    "test['Supermarket _Size']=test['Supermarket _Size'].map({'Small':1,'Medium':2,'High':3})\n",
    "\n",
    "train['Supermarket _Size']=train['Supermarket _Size'].map({'Small':1,'Medium':2,'High':3})\n"
   ]
  },
  {
   "cell_type": "code",
   "execution_count": 69,
   "metadata": {},
   "outputs": [
    {
     "data": {
      "text/html": [
       "<div>\n",
       "<style scoped>\n",
       "    .dataframe tbody tr th:only-of-type {\n",
       "        vertical-align: middle;\n",
       "    }\n",
       "\n",
       "    .dataframe tbody tr th {\n",
       "        vertical-align: top;\n",
       "    }\n",
       "\n",
       "    .dataframe thead th {\n",
       "        text-align: right;\n",
       "    }\n",
       "</style>\n",
       "<table border=\"1\" class=\"dataframe\">\n",
       "  <thead>\n",
       "    <tr style=\"text-align: right;\">\n",
       "      <th></th>\n",
       "      <th>Product_Identifier</th>\n",
       "      <th>Supermarket_Identifier</th>\n",
       "      <th>Product_Supermarket_Identifier</th>\n",
       "      <th>Product_Weight</th>\n",
       "      <th>Product_Fat_Content</th>\n",
       "      <th>Product_Shelf_Visibility</th>\n",
       "      <th>Product_Type</th>\n",
       "      <th>Product_Price</th>\n",
       "      <th>Supermarket_Opening_Year</th>\n",
       "      <th>Supermarket _Size</th>\n",
       "      <th>Supermarket_Location_Type</th>\n",
       "      <th>Supermarket_Type</th>\n",
       "      <th>Average_Price_per_ProductType</th>\n",
       "    </tr>\n",
       "  </thead>\n",
       "  <tbody>\n",
       "    <tr>\n",
       "      <th>0</th>\n",
       "      <td>FDY57</td>\n",
       "      <td>CHUKWUDI013</td>\n",
       "      <td>FDY57_CHUKWUDI013</td>\n",
       "      <td>20.20</td>\n",
       "      <td>Normal Fat</td>\n",
       "      <td>0.121153</td>\n",
       "      <td>Snack Foods</td>\n",
       "      <td>243.44</td>\n",
       "      <td>1994</td>\n",
       "      <td>3</td>\n",
       "      <td>Cluster 3</td>\n",
       "      <td>Supermarket Type1</td>\n",
       "      <td>395.352190</td>\n",
       "    </tr>\n",
       "    <tr>\n",
       "      <th>1</th>\n",
       "      <td>FDY10</td>\n",
       "      <td>CHUKWUDI018</td>\n",
       "      <td>FDY10_CHUKWUDI018</td>\n",
       "      <td>17.60</td>\n",
       "      <td>Low Fat</td>\n",
       "      <td>0.049268</td>\n",
       "      <td>Snack Foods</td>\n",
       "      <td>282.54</td>\n",
       "      <td>2016</td>\n",
       "      <td>2</td>\n",
       "      <td>Cluster 3</td>\n",
       "      <td>Supermarket Type2</td>\n",
       "      <td>395.352190</td>\n",
       "    </tr>\n",
       "    <tr>\n",
       "      <th>2</th>\n",
       "      <td>FDO40</td>\n",
       "      <td>CHUKWUDI018</td>\n",
       "      <td>FDO40_CHUKWUDI018</td>\n",
       "      <td>17.10</td>\n",
       "      <td>Low Fat</td>\n",
       "      <td>0.032761</td>\n",
       "      <td>Frozen Foods</td>\n",
       "      <td>372.10</td>\n",
       "      <td>2016</td>\n",
       "      <td>2</td>\n",
       "      <td>Cluster 3</td>\n",
       "      <td>Supermarket Type2</td>\n",
       "      <td>388.071094</td>\n",
       "    </tr>\n",
       "    <tr>\n",
       "      <th>3</th>\n",
       "      <td>NCQ43</td>\n",
       "      <td>CHUKWUDI018</td>\n",
       "      <td>NCQ43_CHUKWUDI018</td>\n",
       "      <td>17.75</td>\n",
       "      <td>Low Fat</td>\n",
       "      <td>0.000000</td>\n",
       "      <td>Others</td>\n",
       "      <td>271.73</td>\n",
       "      <td>2016</td>\n",
       "      <td>2</td>\n",
       "      <td>Cluster 3</td>\n",
       "      <td>Supermarket Type2</td>\n",
       "      <td>388.607700</td>\n",
       "    </tr>\n",
       "    <tr>\n",
       "      <th>4</th>\n",
       "      <td>NCC07</td>\n",
       "      <td>CHUKWUDI046</td>\n",
       "      <td>NCC07_CHUKWUDI046</td>\n",
       "      <td>19.60</td>\n",
       "      <td>Low Fat</td>\n",
       "      <td>0.023951</td>\n",
       "      <td>Household</td>\n",
       "      <td>264.24</td>\n",
       "      <td>2004</td>\n",
       "      <td>1</td>\n",
       "      <td>Cluster 1</td>\n",
       "      <td>Supermarket Type1</td>\n",
       "      <td>399.999418</td>\n",
       "    </tr>\n",
       "  </tbody>\n",
       "</table>\n",
       "</div>"
      ],
      "text/plain": [
       "  Product_Identifier Supermarket_Identifier Product_Supermarket_Identifier  \\\n",
       "0              FDY57            CHUKWUDI013              FDY57_CHUKWUDI013   \n",
       "1              FDY10            CHUKWUDI018              FDY10_CHUKWUDI018   \n",
       "2              FDO40            CHUKWUDI018              FDO40_CHUKWUDI018   \n",
       "3              NCQ43            CHUKWUDI018              NCQ43_CHUKWUDI018   \n",
       "4              NCC07            CHUKWUDI046              NCC07_CHUKWUDI046   \n",
       "\n",
       "   Product_Weight Product_Fat_Content  Product_Shelf_Visibility  Product_Type  \\\n",
       "0           20.20          Normal Fat                  0.121153   Snack Foods   \n",
       "1           17.60             Low Fat                  0.049268   Snack Foods   \n",
       "2           17.10             Low Fat                  0.032761  Frozen Foods   \n",
       "3           17.75             Low Fat                  0.000000        Others   \n",
       "4           19.60             Low Fat                  0.023951     Household   \n",
       "\n",
       "   Product_Price  Supermarket_Opening_Year  Supermarket _Size  \\\n",
       "0         243.44                      1994                  3   \n",
       "1         282.54                      2016                  2   \n",
       "2         372.10                      2016                  2   \n",
       "3         271.73                      2016                  2   \n",
       "4         264.24                      2004                  1   \n",
       "\n",
       "  Supermarket_Location_Type   Supermarket_Type  Average_Price_per_ProductType  \n",
       "0                 Cluster 3  Supermarket Type1                     395.352190  \n",
       "1                 Cluster 3  Supermarket Type2                     395.352190  \n",
       "2                 Cluster 3  Supermarket Type2                     388.071094  \n",
       "3                 Cluster 3  Supermarket Type2                     388.607700  \n",
       "4                 Cluster 1  Supermarket Type1                     399.999418  "
      ]
     },
     "execution_count": 69,
     "metadata": {},
     "output_type": "execute_result"
    }
   ],
   "source": [
    "test.head()"
   ]
  },
  {
   "cell_type": "code",
   "execution_count": 70,
   "metadata": {},
   "outputs": [],
   "source": [
    "test['Product_Fat_Content']=test['Product_Fat_Content'].map({'Ultra Low Fat':1,'Low Fat':2,'Normal Fat':3})\n",
    "\n",
    "train['Product_Fat_Content']=train['Product_Fat_Content'].map({'Ultra Low Fat':1,'Low Fat':2,'Normal Fat':3})\n"
   ]
  },
  {
   "cell_type": "code",
   "execution_count": 71,
   "metadata": {},
   "outputs": [
    {
     "data": {
      "text/html": [
       "<div>\n",
       "<style scoped>\n",
       "    .dataframe tbody tr th:only-of-type {\n",
       "        vertical-align: middle;\n",
       "    }\n",
       "\n",
       "    .dataframe tbody tr th {\n",
       "        vertical-align: top;\n",
       "    }\n",
       "\n",
       "    .dataframe thead th {\n",
       "        text-align: right;\n",
       "    }\n",
       "</style>\n",
       "<table border=\"1\" class=\"dataframe\">\n",
       "  <thead>\n",
       "    <tr style=\"text-align: right;\">\n",
       "      <th></th>\n",
       "      <th>Product_Identifier</th>\n",
       "      <th>Supermarket_Identifier</th>\n",
       "      <th>Product_Supermarket_Identifier</th>\n",
       "      <th>Product_Weight</th>\n",
       "      <th>Product_Fat_Content</th>\n",
       "      <th>Product_Shelf_Visibility</th>\n",
       "      <th>Product_Type</th>\n",
       "      <th>Product_Price</th>\n",
       "      <th>Supermarket_Opening_Year</th>\n",
       "      <th>Supermarket _Size</th>\n",
       "      <th>Supermarket_Location_Type</th>\n",
       "      <th>Supermarket_Type</th>\n",
       "      <th>Average_Price_per_ProductType</th>\n",
       "    </tr>\n",
       "  </thead>\n",
       "  <tbody>\n",
       "    <tr>\n",
       "      <th>0</th>\n",
       "      <td>FDY57</td>\n",
       "      <td>CHUKWUDI013</td>\n",
       "      <td>FDY57_CHUKWUDI013</td>\n",
       "      <td>20.20</td>\n",
       "      <td>3.0</td>\n",
       "      <td>0.121153</td>\n",
       "      <td>Snack Foods</td>\n",
       "      <td>243.44</td>\n",
       "      <td>1994</td>\n",
       "      <td>3</td>\n",
       "      <td>Cluster 3</td>\n",
       "      <td>Supermarket Type1</td>\n",
       "      <td>395.352190</td>\n",
       "    </tr>\n",
       "    <tr>\n",
       "      <th>1</th>\n",
       "      <td>FDY10</td>\n",
       "      <td>CHUKWUDI018</td>\n",
       "      <td>FDY10_CHUKWUDI018</td>\n",
       "      <td>17.60</td>\n",
       "      <td>2.0</td>\n",
       "      <td>0.049268</td>\n",
       "      <td>Snack Foods</td>\n",
       "      <td>282.54</td>\n",
       "      <td>2016</td>\n",
       "      <td>2</td>\n",
       "      <td>Cluster 3</td>\n",
       "      <td>Supermarket Type2</td>\n",
       "      <td>395.352190</td>\n",
       "    </tr>\n",
       "    <tr>\n",
       "      <th>2</th>\n",
       "      <td>FDO40</td>\n",
       "      <td>CHUKWUDI018</td>\n",
       "      <td>FDO40_CHUKWUDI018</td>\n",
       "      <td>17.10</td>\n",
       "      <td>2.0</td>\n",
       "      <td>0.032761</td>\n",
       "      <td>Frozen Foods</td>\n",
       "      <td>372.10</td>\n",
       "      <td>2016</td>\n",
       "      <td>2</td>\n",
       "      <td>Cluster 3</td>\n",
       "      <td>Supermarket Type2</td>\n",
       "      <td>388.071094</td>\n",
       "    </tr>\n",
       "    <tr>\n",
       "      <th>3</th>\n",
       "      <td>NCQ43</td>\n",
       "      <td>CHUKWUDI018</td>\n",
       "      <td>NCQ43_CHUKWUDI018</td>\n",
       "      <td>17.75</td>\n",
       "      <td>2.0</td>\n",
       "      <td>0.000000</td>\n",
       "      <td>Others</td>\n",
       "      <td>271.73</td>\n",
       "      <td>2016</td>\n",
       "      <td>2</td>\n",
       "      <td>Cluster 3</td>\n",
       "      <td>Supermarket Type2</td>\n",
       "      <td>388.607700</td>\n",
       "    </tr>\n",
       "    <tr>\n",
       "      <th>4</th>\n",
       "      <td>NCC07</td>\n",
       "      <td>CHUKWUDI046</td>\n",
       "      <td>NCC07_CHUKWUDI046</td>\n",
       "      <td>19.60</td>\n",
       "      <td>2.0</td>\n",
       "      <td>0.023951</td>\n",
       "      <td>Household</td>\n",
       "      <td>264.24</td>\n",
       "      <td>2004</td>\n",
       "      <td>1</td>\n",
       "      <td>Cluster 1</td>\n",
       "      <td>Supermarket Type1</td>\n",
       "      <td>399.999418</td>\n",
       "    </tr>\n",
       "  </tbody>\n",
       "</table>\n",
       "</div>"
      ],
      "text/plain": [
       "  Product_Identifier Supermarket_Identifier Product_Supermarket_Identifier  \\\n",
       "0              FDY57            CHUKWUDI013              FDY57_CHUKWUDI013   \n",
       "1              FDY10            CHUKWUDI018              FDY10_CHUKWUDI018   \n",
       "2              FDO40            CHUKWUDI018              FDO40_CHUKWUDI018   \n",
       "3              NCQ43            CHUKWUDI018              NCQ43_CHUKWUDI018   \n",
       "4              NCC07            CHUKWUDI046              NCC07_CHUKWUDI046   \n",
       "\n",
       "   Product_Weight  Product_Fat_Content  Product_Shelf_Visibility  \\\n",
       "0           20.20                  3.0                  0.121153   \n",
       "1           17.60                  2.0                  0.049268   \n",
       "2           17.10                  2.0                  0.032761   \n",
       "3           17.75                  2.0                  0.000000   \n",
       "4           19.60                  2.0                  0.023951   \n",
       "\n",
       "   Product_Type  Product_Price  Supermarket_Opening_Year  Supermarket _Size  \\\n",
       "0   Snack Foods         243.44                      1994                  3   \n",
       "1   Snack Foods         282.54                      2016                  2   \n",
       "2  Frozen Foods         372.10                      2016                  2   \n",
       "3        Others         271.73                      2016                  2   \n",
       "4     Household         264.24                      2004                  1   \n",
       "\n",
       "  Supermarket_Location_Type   Supermarket_Type  Average_Price_per_ProductType  \n",
       "0                 Cluster 3  Supermarket Type1                     395.352190  \n",
       "1                 Cluster 3  Supermarket Type2                     395.352190  \n",
       "2                 Cluster 3  Supermarket Type2                     388.071094  \n",
       "3                 Cluster 3  Supermarket Type2                     388.607700  \n",
       "4                 Cluster 1  Supermarket Type1                     399.999418  "
      ]
     },
     "execution_count": 71,
     "metadata": {},
     "output_type": "execute_result"
    }
   ],
   "source": [
    "test.head()"
   ]
  },
  {
   "cell_type": "code",
   "execution_count": 72,
   "metadata": {},
   "outputs": [
    {
     "data": {
      "text/plain": [
       "Supermarket Type1    1315\n",
       "Grocery Store         297\n",
       "Supermarket Type2     202\n",
       "Supermarket Type3     182\n",
       "Name: Supermarket_Type, dtype: int64"
      ]
     },
     "execution_count": 72,
     "metadata": {},
     "output_type": "execute_result"
    }
   ],
   "source": [
    "test['Supermarket_Type'].value_counts()"
   ]
  },
  {
   "cell_type": "code",
   "execution_count": 73,
   "metadata": {},
   "outputs": [],
   "source": [
    "test = pd.get_dummies(test, prefix_sep=\"_\", columns=['Product_Type','Supermarket_Location_Type','Supermarket_Type'])\n",
    "train = pd.get_dummies(train, prefix_sep=\"_\", columns=['Product_Type','Supermarket_Location_Type','Supermarket_Type'])"
   ]
  },
  {
   "cell_type": "code",
   "execution_count": 74,
   "metadata": {},
   "outputs": [
    {
     "data": {
      "text/html": [
       "<div>\n",
       "<style scoped>\n",
       "    .dataframe tbody tr th:only-of-type {\n",
       "        vertical-align: middle;\n",
       "    }\n",
       "\n",
       "    .dataframe tbody tr th {\n",
       "        vertical-align: top;\n",
       "    }\n",
       "\n",
       "    .dataframe thead th {\n",
       "        text-align: right;\n",
       "    }\n",
       "</style>\n",
       "<table border=\"1\" class=\"dataframe\">\n",
       "  <thead>\n",
       "    <tr style=\"text-align: right;\">\n",
       "      <th></th>\n",
       "      <th>Product_Identifier</th>\n",
       "      <th>Supermarket_Identifier</th>\n",
       "      <th>Product_Supermarket_Identifier</th>\n",
       "      <th>Product_Weight</th>\n",
       "      <th>Product_Fat_Content</th>\n",
       "      <th>Product_Shelf_Visibility</th>\n",
       "      <th>Product_Price</th>\n",
       "      <th>Supermarket_Opening_Year</th>\n",
       "      <th>Supermarket _Size</th>\n",
       "      <th>Average_Price_per_ProductType</th>\n",
       "      <th>...</th>\n",
       "      <th>Product_Type_Snack Foods</th>\n",
       "      <th>Product_Type_Soft Drinks</th>\n",
       "      <th>Product_Type_Starchy Foods</th>\n",
       "      <th>Supermarket_Location_Type_Cluster 1</th>\n",
       "      <th>Supermarket_Location_Type_Cluster 2</th>\n",
       "      <th>Supermarket_Location_Type_Cluster 3</th>\n",
       "      <th>Supermarket_Type_Grocery Store</th>\n",
       "      <th>Supermarket_Type_Supermarket Type1</th>\n",
       "      <th>Supermarket_Type_Supermarket Type2</th>\n",
       "      <th>Supermarket_Type_Supermarket Type3</th>\n",
       "    </tr>\n",
       "  </thead>\n",
       "  <tbody>\n",
       "    <tr>\n",
       "      <th>0</th>\n",
       "      <td>FDY57</td>\n",
       "      <td>CHUKWUDI013</td>\n",
       "      <td>FDY57_CHUKWUDI013</td>\n",
       "      <td>20.20</td>\n",
       "      <td>3.0</td>\n",
       "      <td>0.121153</td>\n",
       "      <td>243.44</td>\n",
       "      <td>1994</td>\n",
       "      <td>3</td>\n",
       "      <td>395.352190</td>\n",
       "      <td>...</td>\n",
       "      <td>1</td>\n",
       "      <td>0</td>\n",
       "      <td>0</td>\n",
       "      <td>0</td>\n",
       "      <td>0</td>\n",
       "      <td>1</td>\n",
       "      <td>0</td>\n",
       "      <td>1</td>\n",
       "      <td>0</td>\n",
       "      <td>0</td>\n",
       "    </tr>\n",
       "    <tr>\n",
       "      <th>1</th>\n",
       "      <td>FDY10</td>\n",
       "      <td>CHUKWUDI018</td>\n",
       "      <td>FDY10_CHUKWUDI018</td>\n",
       "      <td>17.60</td>\n",
       "      <td>2.0</td>\n",
       "      <td>0.049268</td>\n",
       "      <td>282.54</td>\n",
       "      <td>2016</td>\n",
       "      <td>2</td>\n",
       "      <td>395.352190</td>\n",
       "      <td>...</td>\n",
       "      <td>1</td>\n",
       "      <td>0</td>\n",
       "      <td>0</td>\n",
       "      <td>0</td>\n",
       "      <td>0</td>\n",
       "      <td>1</td>\n",
       "      <td>0</td>\n",
       "      <td>0</td>\n",
       "      <td>1</td>\n",
       "      <td>0</td>\n",
       "    </tr>\n",
       "    <tr>\n",
       "      <th>2</th>\n",
       "      <td>FDO40</td>\n",
       "      <td>CHUKWUDI018</td>\n",
       "      <td>FDO40_CHUKWUDI018</td>\n",
       "      <td>17.10</td>\n",
       "      <td>2.0</td>\n",
       "      <td>0.032761</td>\n",
       "      <td>372.10</td>\n",
       "      <td>2016</td>\n",
       "      <td>2</td>\n",
       "      <td>388.071094</td>\n",
       "      <td>...</td>\n",
       "      <td>0</td>\n",
       "      <td>0</td>\n",
       "      <td>0</td>\n",
       "      <td>0</td>\n",
       "      <td>0</td>\n",
       "      <td>1</td>\n",
       "      <td>0</td>\n",
       "      <td>0</td>\n",
       "      <td>1</td>\n",
       "      <td>0</td>\n",
       "    </tr>\n",
       "    <tr>\n",
       "      <th>3</th>\n",
       "      <td>NCQ43</td>\n",
       "      <td>CHUKWUDI018</td>\n",
       "      <td>NCQ43_CHUKWUDI018</td>\n",
       "      <td>17.75</td>\n",
       "      <td>2.0</td>\n",
       "      <td>0.000000</td>\n",
       "      <td>271.73</td>\n",
       "      <td>2016</td>\n",
       "      <td>2</td>\n",
       "      <td>388.607700</td>\n",
       "      <td>...</td>\n",
       "      <td>0</td>\n",
       "      <td>0</td>\n",
       "      <td>0</td>\n",
       "      <td>0</td>\n",
       "      <td>0</td>\n",
       "      <td>1</td>\n",
       "      <td>0</td>\n",
       "      <td>0</td>\n",
       "      <td>1</td>\n",
       "      <td>0</td>\n",
       "    </tr>\n",
       "    <tr>\n",
       "      <th>4</th>\n",
       "      <td>NCC07</td>\n",
       "      <td>CHUKWUDI046</td>\n",
       "      <td>NCC07_CHUKWUDI046</td>\n",
       "      <td>19.60</td>\n",
       "      <td>2.0</td>\n",
       "      <td>0.023951</td>\n",
       "      <td>264.24</td>\n",
       "      <td>2004</td>\n",
       "      <td>1</td>\n",
       "      <td>399.999418</td>\n",
       "      <td>...</td>\n",
       "      <td>0</td>\n",
       "      <td>0</td>\n",
       "      <td>0</td>\n",
       "      <td>1</td>\n",
       "      <td>0</td>\n",
       "      <td>0</td>\n",
       "      <td>0</td>\n",
       "      <td>1</td>\n",
       "      <td>0</td>\n",
       "      <td>0</td>\n",
       "    </tr>\n",
       "  </tbody>\n",
       "</table>\n",
       "<p>5 rows × 33 columns</p>\n",
       "</div>"
      ],
      "text/plain": [
       "  Product_Identifier Supermarket_Identifier Product_Supermarket_Identifier  \\\n",
       "0              FDY57            CHUKWUDI013              FDY57_CHUKWUDI013   \n",
       "1              FDY10            CHUKWUDI018              FDY10_CHUKWUDI018   \n",
       "2              FDO40            CHUKWUDI018              FDO40_CHUKWUDI018   \n",
       "3              NCQ43            CHUKWUDI018              NCQ43_CHUKWUDI018   \n",
       "4              NCC07            CHUKWUDI046              NCC07_CHUKWUDI046   \n",
       "\n",
       "   Product_Weight  Product_Fat_Content  Product_Shelf_Visibility  \\\n",
       "0           20.20                  3.0                  0.121153   \n",
       "1           17.60                  2.0                  0.049268   \n",
       "2           17.10                  2.0                  0.032761   \n",
       "3           17.75                  2.0                  0.000000   \n",
       "4           19.60                  2.0                  0.023951   \n",
       "\n",
       "   Product_Price  Supermarket_Opening_Year  Supermarket _Size  \\\n",
       "0         243.44                      1994                  3   \n",
       "1         282.54                      2016                  2   \n",
       "2         372.10                      2016                  2   \n",
       "3         271.73                      2016                  2   \n",
       "4         264.24                      2004                  1   \n",
       "\n",
       "   Average_Price_per_ProductType  ...  Product_Type_Snack Foods  \\\n",
       "0                     395.352190  ...                         1   \n",
       "1                     395.352190  ...                         1   \n",
       "2                     388.071094  ...                         0   \n",
       "3                     388.607700  ...                         0   \n",
       "4                     399.999418  ...                         0   \n",
       "\n",
       "   Product_Type_Soft Drinks  Product_Type_Starchy Foods  \\\n",
       "0                         0                           0   \n",
       "1                         0                           0   \n",
       "2                         0                           0   \n",
       "3                         0                           0   \n",
       "4                         0                           0   \n",
       "\n",
       "   Supermarket_Location_Type_Cluster 1  Supermarket_Location_Type_Cluster 2  \\\n",
       "0                                    0                                    0   \n",
       "1                                    0                                    0   \n",
       "2                                    0                                    0   \n",
       "3                                    0                                    0   \n",
       "4                                    1                                    0   \n",
       "\n",
       "   Supermarket_Location_Type_Cluster 3  Supermarket_Type_Grocery Store  \\\n",
       "0                                    1                               0   \n",
       "1                                    1                               0   \n",
       "2                                    1                               0   \n",
       "3                                    1                               0   \n",
       "4                                    0                               0   \n",
       "\n",
       "   Supermarket_Type_Supermarket Type1  Supermarket_Type_Supermarket Type2  \\\n",
       "0                                   1                                   0   \n",
       "1                                   0                                   1   \n",
       "2                                   0                                   1   \n",
       "3                                   0                                   1   \n",
       "4                                   1                                   0   \n",
       "\n",
       "   Supermarket_Type_Supermarket Type3  \n",
       "0                                   0  \n",
       "1                                   0  \n",
       "2                                   0  \n",
       "3                                   0  \n",
       "4                                   0  \n",
       "\n",
       "[5 rows x 33 columns]"
      ]
     },
     "execution_count": 74,
     "metadata": {},
     "output_type": "execute_result"
    }
   ],
   "source": [
    "test.head()"
   ]
  },
  {
   "cell_type": "code",
   "execution_count": 75,
   "metadata": {},
   "outputs": [],
   "source": [
    "train['Product_Fat_Content'] = train['Product_Fat_Content'].replace({ np.nan : 2.0})\n",
    "test['Product_Fat_Content'] = test['Product_Fat_Content'].replace({ np.nan : 2.0})"
   ]
  },
  {
   "cell_type": "code",
   "execution_count": 76,
   "metadata": {},
   "outputs": [
    {
     "data": {
      "text/plain": [
       "2.0    1280\n",
       "3.0     716\n",
       "Name: Product_Fat_Content, dtype: int64"
      ]
     },
     "execution_count": 76,
     "metadata": {},
     "output_type": "execute_result"
    }
   ],
   "source": [
    "test['Product_Fat_Content'].value_counts()"
   ]
  },
  {
   "cell_type": "code",
   "execution_count": 77,
   "metadata": {},
   "outputs": [
    {
     "name": "stdout",
     "output_type": "stream",
     "text": [
      "<class 'pandas.core.frame.DataFrame'>\n",
      "RangeIndex: 1996 entries, 0 to 1995\n",
      "Data columns (total 33 columns):\n",
      " #   Column                               Non-Null Count  Dtype  \n",
      "---  ------                               --------------  -----  \n",
      " 0   Product_Identifier                   1996 non-null   object \n",
      " 1   Supermarket_Identifier               1996 non-null   object \n",
      " 2   Product_Supermarket_Identifier       1996 non-null   object \n",
      " 3   Product_Weight                       1996 non-null   float64\n",
      " 4   Product_Fat_Content                  1996 non-null   float64\n",
      " 5   Product_Shelf_Visibility             1996 non-null   float64\n",
      " 6   Product_Price                        1996 non-null   float64\n",
      " 7   Supermarket_Opening_Year             1996 non-null   int64  \n",
      " 8   Supermarket _Size                    1996 non-null   int64  \n",
      " 9   Average_Price_per_ProductType        1996 non-null   float64\n",
      " 10  Product_Type_Baking Goods            1996 non-null   uint8  \n",
      " 11  Product_Type_Breads                  1996 non-null   uint8  \n",
      " 12  Product_Type_Breakfast               1996 non-null   uint8  \n",
      " 13  Product_Type_Canned                  1996 non-null   uint8  \n",
      " 14  Product_Type_Dairy                   1996 non-null   uint8  \n",
      " 15  Product_Type_Frozen Foods            1996 non-null   uint8  \n",
      " 16  Product_Type_Fruits and Vegetables   1996 non-null   uint8  \n",
      " 17  Product_Type_Hard Drinks             1996 non-null   uint8  \n",
      " 18  Product_Type_Health and Hygiene      1996 non-null   uint8  \n",
      " 19  Product_Type_Household               1996 non-null   uint8  \n",
      " 20  Product_Type_Meat                    1996 non-null   uint8  \n",
      " 21  Product_Type_Others                  1996 non-null   uint8  \n",
      " 22  Product_Type_Seafood                 1996 non-null   uint8  \n",
      " 23  Product_Type_Snack Foods             1996 non-null   uint8  \n",
      " 24  Product_Type_Soft Drinks             1996 non-null   uint8  \n",
      " 25  Product_Type_Starchy Foods           1996 non-null   uint8  \n",
      " 26  Supermarket_Location_Type_Cluster 1  1996 non-null   uint8  \n",
      " 27  Supermarket_Location_Type_Cluster 2  1996 non-null   uint8  \n",
      " 28  Supermarket_Location_Type_Cluster 3  1996 non-null   uint8  \n",
      " 29  Supermarket_Type_Grocery Store       1996 non-null   uint8  \n",
      " 30  Supermarket_Type_Supermarket Type1   1996 non-null   uint8  \n",
      " 31  Supermarket_Type_Supermarket Type2   1996 non-null   uint8  \n",
      " 32  Supermarket_Type_Supermarket Type3   1996 non-null   uint8  \n",
      "dtypes: float64(5), int64(2), object(3), uint8(23)\n",
      "memory usage: 200.9+ KB\n"
     ]
    }
   ],
   "source": [
    "test.info()"
   ]
  },
  {
   "cell_type": "code",
   "execution_count": 78,
   "metadata": {},
   "outputs": [],
   "source": [
    "test.drop(['Product_Identifier','Supermarket_Identifier','Product_Supermarket_Identifier'], axis=1,inplace=True)\n",
    "train.drop(['Product_Identifier','Supermarket_Identifier','Product_Supermarket_Identifier'], axis=1,inplace=True)"
   ]
  },
  {
   "cell_type": "code",
   "execution_count": 79,
   "metadata": {},
   "outputs": [
    {
     "data": {
      "text/plain": [
       "(2994, 31)"
      ]
     },
     "execution_count": 79,
     "metadata": {},
     "output_type": "execute_result"
    }
   ],
   "source": [
    "train.shape"
   ]
  },
  {
   "cell_type": "code",
   "execution_count": 80,
   "metadata": {},
   "outputs": [
    {
     "data": {
      "text/plain": [
       "(2994, 30)"
      ]
     },
     "execution_count": 80,
     "metadata": {},
     "output_type": "execute_result"
    }
   ],
   "source": [
    "\n",
    "X=train.drop(['Product_Supermarket_Sales'], axis=1)\n",
    "y = train['Product_Supermarket_Sales']\n",
    "test \n",
    "X.shape"
   ]
  },
  {
   "cell_type": "code",
   "execution_count": 81,
   "metadata": {},
   "outputs": [
    {
     "data": {
      "text/plain": [
       "(1996, 30)"
      ]
     },
     "execution_count": 81,
     "metadata": {},
     "output_type": "execute_result"
    }
   ],
   "source": [
    "test.shape"
   ]
  },
  {
   "cell_type": "code",
   "execution_count": 82,
   "metadata": {},
   "outputs": [
    {
     "data": {
      "text/plain": [
       "(2994,)"
      ]
     },
     "execution_count": 82,
     "metadata": {},
     "output_type": "execute_result"
    }
   ],
   "source": [
    "y.shape"
   ]
  },
  {
   "cell_type": "code",
   "execution_count": 83,
   "metadata": {},
   "outputs": [],
   "source": [
    "from sklearn.linear_model import LinearRegression\n",
    "from sklearn.model_selection import train_test_split"
   ]
  },
  {
   "cell_type": "code",
   "execution_count": 84,
   "metadata": {},
   "outputs": [],
   "source": [
    "linreg = LinearRegression()\n"
   ]
  },
  {
   "cell_type": "code",
   "execution_count": 85,
   "metadata": {},
   "outputs": [],
   "source": [
    "X_train,X_test,y_train,y_test = train_test_split(X,y,test_size=0.3,random_state=42)"
   ]
  },
  {
   "cell_type": "code",
   "execution_count": 86,
   "metadata": {},
   "outputs": [
    {
     "data": {
      "text/plain": [
       "LinearRegression(copy_X=True, fit_intercept=True, n_jobs=None, normalize=False)"
      ]
     },
     "execution_count": 86,
     "metadata": {},
     "output_type": "execute_result"
    }
   ],
   "source": [
    "linreg.fit(X_train,y_train)\n"
   ]
  },
  {
   "cell_type": "code",
   "execution_count": 87,
   "metadata": {},
   "outputs": [],
   "source": [
    "y_pred=linreg.predict(X_test)"
   ]
  },
  {
   "cell_type": "code",
   "execution_count": 88,
   "metadata": {},
   "outputs": [],
   "source": [
    "from sklearn.metrics import mean_squared_error"
   ]
  },
  {
   "cell_type": "code",
   "execution_count": 89,
   "metadata": {},
   "outputs": [],
   "source": [
    "mean_squared_error=mean_squared_error(y_test,y_pred)"
   ]
  },
  {
   "cell_type": "code",
   "execution_count": 90,
   "metadata": {},
   "outputs": [],
   "source": [
    "import math \n"
   ]
  },
  {
   "cell_type": "code",
   "execution_count": 91,
   "metadata": {},
   "outputs": [],
   "source": [
    "rootmeansquarederror= math.sqrt(mean_squared_error)"
   ]
  },
  {
   "cell_type": "code",
   "execution_count": 92,
   "metadata": {},
   "outputs": [
    {
     "name": "stdout",
     "output_type": "stream",
     "text": [
      "RMSE: 2955.416959794722\n"
     ]
    }
   ],
   "source": [
    "print('RMSE:',rootmeansquarederror)"
   ]
  },
  {
   "cell_type": "code",
   "execution_count": 93,
   "metadata": {},
   "outputs": [],
   "source": [
    "predict=linreg.predict(test)"
   ]
  },
  {
   "cell_type": "code",
   "execution_count": 94,
   "metadata": {},
   "outputs": [],
   "source": [
    "\n",
    "test=pd.read_csv('Test.csv')\n",
    "sub = pd.DataFrame({\"Product_Supermarket_Identifier\":test['Product_Supermarket_Identifier'] , 'Product_Supermarket_Sales': predict})"
   ]
  },
  {
   "cell_type": "code",
   "execution_count": 95,
   "metadata": {},
   "outputs": [
    {
     "data": {
      "text/html": [
       "<div>\n",
       "<style scoped>\n",
       "    .dataframe tbody tr th:only-of-type {\n",
       "        vertical-align: middle;\n",
       "    }\n",
       "\n",
       "    .dataframe tbody tr th {\n",
       "        vertical-align: top;\n",
       "    }\n",
       "\n",
       "    .dataframe thead th {\n",
       "        text-align: right;\n",
       "    }\n",
       "</style>\n",
       "<table border=\"1\" class=\"dataframe\">\n",
       "  <thead>\n",
       "    <tr style=\"text-align: right;\">\n",
       "      <th></th>\n",
       "      <th>Product_Supermarket_Identifier</th>\n",
       "      <th>Product_Supermarket_Sales</th>\n",
       "    </tr>\n",
       "  </thead>\n",
       "  <tbody>\n",
       "    <tr>\n",
       "      <th>0</th>\n",
       "      <td>FDY57_CHUKWUDI013</td>\n",
       "      <td>4168.207566</td>\n",
       "    </tr>\n",
       "    <tr>\n",
       "      <th>1</th>\n",
       "      <td>FDY10_CHUKWUDI018</td>\n",
       "      <td>4251.109576</td>\n",
       "    </tr>\n",
       "    <tr>\n",
       "      <th>2</th>\n",
       "      <td>FDO40_CHUKWUDI018</td>\n",
       "      <td>5394.140745</td>\n",
       "    </tr>\n",
       "    <tr>\n",
       "      <th>3</th>\n",
       "      <td>NCQ43_CHUKWUDI018</td>\n",
       "      <td>4536.036447</td>\n",
       "    </tr>\n",
       "    <tr>\n",
       "      <th>4</th>\n",
       "      <td>NCC07_CHUKWUDI046</td>\n",
       "      <td>4526.451191</td>\n",
       "    </tr>\n",
       "  </tbody>\n",
       "</table>\n",
       "</div>"
      ],
      "text/plain": [
       "  Product_Supermarket_Identifier  Product_Supermarket_Sales\n",
       "0              FDY57_CHUKWUDI013                4168.207566\n",
       "1              FDY10_CHUKWUDI018                4251.109576\n",
       "2              FDO40_CHUKWUDI018                5394.140745\n",
       "3              NCQ43_CHUKWUDI018                4536.036447\n",
       "4              NCC07_CHUKWUDI046                4526.451191"
      ]
     },
     "execution_count": 95,
     "metadata": {},
     "output_type": "execute_result"
    }
   ],
   "source": [
    "sub.head()"
   ]
  },
  {
   "cell_type": "code",
   "execution_count": 96,
   "metadata": {},
   "outputs": [],
   "source": [
    "sub.to_csv('submissionV1.csv',index=False)"
   ]
  },
  {
   "cell_type": "code",
   "execution_count": 97,
   "metadata": {},
   "outputs": [],
   "source": [
    "\n",
    "\n",
    "from sklearn.ensemble import RandomForestRegressor"
   ]
  },
  {
   "cell_type": "code",
   "execution_count": null,
   "metadata": {},
   "outputs": [],
   "source": []
  },
  {
   "cell_type": "code",
   "execution_count": 98,
   "metadata": {},
   "outputs": [],
   "source": [
    "regressor= RandomForestRegressor(n_estimators=100,random_state=42)"
   ]
  },
  {
   "cell_type": "code",
   "execution_count": 99,
   "metadata": {},
   "outputs": [
    {
     "data": {
      "text/plain": [
       "RandomForestRegressor(bootstrap=True, ccp_alpha=0.0, criterion='mse',\n",
       "                      max_depth=None, max_features='auto', max_leaf_nodes=None,\n",
       "                      max_samples=None, min_impurity_decrease=0.0,\n",
       "                      min_impurity_split=None, min_samples_leaf=1,\n",
       "                      min_samples_split=2, min_weight_fraction_leaf=0.0,\n",
       "                      n_estimators=100, n_jobs=None, oob_score=False,\n",
       "                      random_state=42, verbose=0, warm_start=False)"
      ]
     },
     "execution_count": 99,
     "metadata": {},
     "output_type": "execute_result"
    }
   ],
   "source": [
    "regressor.fit(X_train,y_train)"
   ]
  },
  {
   "cell_type": "code",
   "execution_count": 100,
   "metadata": {
    "scrolled": false
   },
   "outputs": [],
   "source": [
    "y_pred=regressor.predict(X_test)"
   ]
  },
  {
   "cell_type": "code",
   "execution_count": 101,
   "metadata": {},
   "outputs": [],
   "source": [
    "from sklearn.metrics import mean_squared_error\n",
    "#np.sqrt(metrics.mean_squared_error(y_test,y_pred))"
   ]
  },
  {
   "cell_type": "code",
   "execution_count": 102,
   "metadata": {},
   "outputs": [],
   "source": [
    "mean_squarederror=mean_squared_error(y_test,y_pred)"
   ]
  },
  {
   "cell_type": "code",
   "execution_count": 103,
   "metadata": {},
   "outputs": [],
   "source": [
    "Rootmeansquarederror= math.sqrt(mean_squarederror)"
   ]
  },
  {
   "cell_type": "code",
   "execution_count": 104,
   "metadata": {},
   "outputs": [
    {
     "name": "stdout",
     "output_type": "stream",
     "text": [
      "RMSE: 3037.325532998399\n"
     ]
    }
   ],
   "source": [
    "print('RMSE:',Rootmeansquarederror)"
   ]
  },
  {
   "cell_type": "code",
   "execution_count": 105,
   "metadata": {},
   "outputs": [],
   "source": [
    "from sklearn.model_selection  import StratifiedKFold"
   ]
  },
  {
   "cell_type": "code",
   "execution_count": 106,
   "metadata": {},
   "outputs": [],
   "source": [
    "#folds= StratifiedKFold(n_splits)\n"
   ]
  },
  {
   "cell_type": "code",
   "execution_count": 107,
   "metadata": {},
   "outputs": [],
   "source": [
    "#from sklearn.model_selection import cross_val_score\n",
    "#from sklearn.linear_model import LinearRegression"
   ]
  },
  {
   "cell_type": "code",
   "execution_count": 108,
   "metadata": {},
   "outputs": [
    {
     "name": "stdout",
     "output_type": "stream",
     "text": [
      "[05:30:49] WARNING: src/objective/regression_obj.cu:152: reg:linear is now deprecated in favor of reg:squarederror.\n",
      "[0]\tvalidation_0-rmse:6990.11\tvalidation_1-rmse:7041.11\n",
      "Multiple eval metrics have been passed: 'validation_1-rmse' will be used for early stopping.\n",
      "\n",
      "Will train until validation_1-rmse hasn't improved in 200 rounds.\n",
      "[1]\tvalidation_0-rmse:6439.69\tvalidation_1-rmse:6487.85\n",
      "[2]\tvalidation_0-rmse:5951.58\tvalidation_1-rmse:6004.41\n",
      "[3]\tvalidation_0-rmse:5525.12\tvalidation_1-rmse:5580.39\n",
      "[4]\tvalidation_0-rmse:5150.03\tvalidation_1-rmse:5207.66\n",
      "[5]\tvalidation_0-rmse:4823.67\tvalidation_1-rmse:4883.52\n",
      "[6]\tvalidation_0-rmse:4540.75\tvalidation_1-rmse:4603.5\n",
      "[7]\tvalidation_0-rmse:4294.74\tvalidation_1-rmse:4350.37\n",
      "[8]\tvalidation_0-rmse:4080.52\tvalidation_1-rmse:4134.1\n",
      "[9]\tvalidation_0-rmse:3896.33\tvalidation_1-rmse:3944.55\n",
      "[10]\tvalidation_0-rmse:3740.25\tvalidation_1-rmse:3787.21\n",
      "[11]\tvalidation_0-rmse:3606.12\tvalidation_1-rmse:3649.08\n",
      "[12]\tvalidation_0-rmse:3493.39\tvalidation_1-rmse:3535.79\n",
      "[13]\tvalidation_0-rmse:3397.49\tvalidation_1-rmse:3434.8\n",
      "[14]\tvalidation_0-rmse:3316.81\tvalidation_1-rmse:3351.24\n",
      "[15]\tvalidation_0-rmse:3247.35\tvalidation_1-rmse:3286.94\n",
      "[16]\tvalidation_0-rmse:3190.12\tvalidation_1-rmse:3227.52\n",
      "[17]\tvalidation_0-rmse:3141.71\tvalidation_1-rmse:3179.12\n",
      "[18]\tvalidation_0-rmse:3100.51\tvalidation_1-rmse:3141.84\n",
      "[19]\tvalidation_0-rmse:3065.48\tvalidation_1-rmse:3109.17\n",
      "[20]\tvalidation_0-rmse:3037.15\tvalidation_1-rmse:3080.47\n",
      "[21]\tvalidation_0-rmse:3012.43\tvalidation_1-rmse:3054.3\n",
      "[22]\tvalidation_0-rmse:2990.5\tvalidation_1-rmse:3037.2\n",
      "[23]\tvalidation_0-rmse:2971.88\tvalidation_1-rmse:3026.44\n",
      "[24]\tvalidation_0-rmse:2956.28\tvalidation_1-rmse:3012.19\n",
      "[25]\tvalidation_0-rmse:2943.38\tvalidation_1-rmse:3000.12\n",
      "[26]\tvalidation_0-rmse:2928.91\tvalidation_1-rmse:2992.09\n",
      "[27]\tvalidation_0-rmse:2918.06\tvalidation_1-rmse:2986.56\n",
      "[28]\tvalidation_0-rmse:2907.33\tvalidation_1-rmse:2979.34\n",
      "[29]\tvalidation_0-rmse:2899.29\tvalidation_1-rmse:2973.03\n",
      "[30]\tvalidation_0-rmse:2891.84\tvalidation_1-rmse:2968.97\n",
      "[31]\tvalidation_0-rmse:2884.89\tvalidation_1-rmse:2968.07\n",
      "[32]\tvalidation_0-rmse:2877.77\tvalidation_1-rmse:2965.92\n",
      "[33]\tvalidation_0-rmse:2871.74\tvalidation_1-rmse:2965.12\n",
      "[34]\tvalidation_0-rmse:2866.87\tvalidation_1-rmse:2963.02\n",
      "[35]\tvalidation_0-rmse:2861.87\tvalidation_1-rmse:2960.14\n",
      "[36]\tvalidation_0-rmse:2856.77\tvalidation_1-rmse:2957.42\n",
      "[37]\tvalidation_0-rmse:2851.77\tvalidation_1-rmse:2957.19\n",
      "[38]\tvalidation_0-rmse:2847.01\tvalidation_1-rmse:2958.22\n",
      "[39]\tvalidation_0-rmse:2842.19\tvalidation_1-rmse:2956.28\n",
      "[40]\tvalidation_0-rmse:2839.82\tvalidation_1-rmse:2954.53\n",
      "[41]\tvalidation_0-rmse:2836.85\tvalidation_1-rmse:2953.07\n",
      "[42]\tvalidation_0-rmse:2833.58\tvalidation_1-rmse:2953.19\n",
      "[43]\tvalidation_0-rmse:2831.91\tvalidation_1-rmse:2951.45\n",
      "[44]\tvalidation_0-rmse:2825.84\tvalidation_1-rmse:2951.86\n",
      "[45]\tvalidation_0-rmse:2822.17\tvalidation_1-rmse:2951.04\n",
      "[46]\tvalidation_0-rmse:2816.27\tvalidation_1-rmse:2951.14\n",
      "[47]\tvalidation_0-rmse:2814.17\tvalidation_1-rmse:2950.49\n",
      "[48]\tvalidation_0-rmse:2812.85\tvalidation_1-rmse:2949.42\n",
      "[49]\tvalidation_0-rmse:2809.64\tvalidation_1-rmse:2949.27\n",
      "[50]\tvalidation_0-rmse:2802.56\tvalidation_1-rmse:2951.85\n",
      "[51]\tvalidation_0-rmse:2798.92\tvalidation_1-rmse:2953.42\n",
      "[52]\tvalidation_0-rmse:2795.22\tvalidation_1-rmse:2953.54\n",
      "[53]\tvalidation_0-rmse:2793.71\tvalidation_1-rmse:2953.68\n",
      "[54]\tvalidation_0-rmse:2791.48\tvalidation_1-rmse:2954.09\n",
      "[55]\tvalidation_0-rmse:2788.81\tvalidation_1-rmse:2953.48\n",
      "[56]\tvalidation_0-rmse:2786.43\tvalidation_1-rmse:2953.7\n",
      "[57]\tvalidation_0-rmse:2783.82\tvalidation_1-rmse:2953.71\n",
      "[58]\tvalidation_0-rmse:2780.74\tvalidation_1-rmse:2953.62\n",
      "[59]\tvalidation_0-rmse:2777.67\tvalidation_1-rmse:2954.84\n",
      "[60]\tvalidation_0-rmse:2776.33\tvalidation_1-rmse:2955\n",
      "[61]\tvalidation_0-rmse:2775.36\tvalidation_1-rmse:2954.2\n",
      "[62]\tvalidation_0-rmse:2772.33\tvalidation_1-rmse:2955.39\n",
      "[63]\tvalidation_0-rmse:2769.76\tvalidation_1-rmse:2955.4\n",
      "[64]\tvalidation_0-rmse:2767.19\tvalidation_1-rmse:2956.17\n",
      "[65]\tvalidation_0-rmse:2764.6\tvalidation_1-rmse:2957.1\n",
      "[66]\tvalidation_0-rmse:2761.45\tvalidation_1-rmse:2957.34\n",
      "[67]\tvalidation_0-rmse:2757.6\tvalidation_1-rmse:2957.75\n",
      "[68]\tvalidation_0-rmse:2756.14\tvalidation_1-rmse:2956.76\n",
      "[69]\tvalidation_0-rmse:2754.25\tvalidation_1-rmse:2956.83\n",
      "[70]\tvalidation_0-rmse:2753.43\tvalidation_1-rmse:2956.16\n",
      "[71]\tvalidation_0-rmse:2749.26\tvalidation_1-rmse:2955.58\n",
      "[72]\tvalidation_0-rmse:2746.01\tvalidation_1-rmse:2956.25\n",
      "[73]\tvalidation_0-rmse:2744.2\tvalidation_1-rmse:2957.14\n",
      "[74]\tvalidation_0-rmse:2742.16\tvalidation_1-rmse:2958.33\n",
      "[75]\tvalidation_0-rmse:2740.54\tvalidation_1-rmse:2959.27\n",
      "[76]\tvalidation_0-rmse:2736.98\tvalidation_1-rmse:2958.5\n",
      "[77]\tvalidation_0-rmse:2735.93\tvalidation_1-rmse:2958.17\n",
      "[78]\tvalidation_0-rmse:2733.14\tvalidation_1-rmse:2958.21\n",
      "[79]\tvalidation_0-rmse:2731.91\tvalidation_1-rmse:2959.65\n",
      "[80]\tvalidation_0-rmse:2728.31\tvalidation_1-rmse:2959.2\n",
      "[81]\tvalidation_0-rmse:2722.85\tvalidation_1-rmse:2958.89\n",
      "[82]\tvalidation_0-rmse:2719.9\tvalidation_1-rmse:2959.73\n",
      "[83]\tvalidation_0-rmse:2717.48\tvalidation_1-rmse:2960.53\n",
      "[84]\tvalidation_0-rmse:2715.77\tvalidation_1-rmse:2961.07\n",
      "[85]\tvalidation_0-rmse:2713.37\tvalidation_1-rmse:2961.32\n",
      "[86]\tvalidation_0-rmse:2710.14\tvalidation_1-rmse:2959.72\n",
      "[87]\tvalidation_0-rmse:2708.03\tvalidation_1-rmse:2960.85\n",
      "[88]\tvalidation_0-rmse:2705.13\tvalidation_1-rmse:2960.55\n",
      "[89]\tvalidation_0-rmse:2704.1\tvalidation_1-rmse:2960.52\n",
      "[90]\tvalidation_0-rmse:2701.47\tvalidation_1-rmse:2959.87\n",
      "[91]\tvalidation_0-rmse:2698.29\tvalidation_1-rmse:2959.17\n",
      "[92]\tvalidation_0-rmse:2695.95\tvalidation_1-rmse:2960.08\n",
      "[93]\tvalidation_0-rmse:2693.54\tvalidation_1-rmse:2960.86\n",
      "[94]\tvalidation_0-rmse:2690.24\tvalidation_1-rmse:2960.54\n",
      "[95]\tvalidation_0-rmse:2688.7\tvalidation_1-rmse:2961.22\n",
      "[96]\tvalidation_0-rmse:2683.85\tvalidation_1-rmse:2963.98\n",
      "[97]\tvalidation_0-rmse:2680.09\tvalidation_1-rmse:2963.61\n",
      "[98]\tvalidation_0-rmse:2678.75\tvalidation_1-rmse:2963.56\n",
      "[99]\tvalidation_0-rmse:2677.07\tvalidation_1-rmse:2964.14\n"
     ]
    },
    {
     "data": {
      "text/plain": [
       "XGBRegressor(base_score=0.5, booster='gbtree', colsample_bylevel=1,\n",
       "             colsample_bynode=1, colsample_bytree=1, gamma=0,\n",
       "             importance_type='gain', learning_rate=0.1, max_delta_step=0,\n",
       "             max_depth=3, min_child_weight=1, missing=None, n_estimators=100,\n",
       "             n_jobs=1, nthread=None, objective='reg:linear', random_state=0,\n",
       "             reg_alpha=0, reg_lambda=1, scale_pos_weight=1, seed=None,\n",
       "             silent=None, subsample=1, verbosity=1)"
      ]
     },
     "execution_count": 108,
     "metadata": {},
     "output_type": "execute_result"
    }
   ],
   "source": [
    "xgb = XGBRegressor()\n",
    "xgb.fit(X_train,y_train,eval_metric = 'rmse', eval_set = [(X_train,y_train),\n",
    "                                                          (X_test,y_test)],\n",
    "            early_stopping_rounds = 200)"
   ]
  },
  {
   "cell_type": "code",
   "execution_count": 109,
   "metadata": {},
   "outputs": [],
   "source": [
    "xgbpred = xgb.predict(X_test)"
   ]
  },
  {
   "cell_type": "code",
   "execution_count": 110,
   "metadata": {},
   "outputs": [],
   "source": [
    "xgbpred_train = xgb.predict(X)"
   ]
  },
  {
   "cell_type": "code",
   "execution_count": 111,
   "metadata": {},
   "outputs": [],
   "source": [
    "from sklearn.metrics import mean_squared_error as mse\n",
    "def rmse(y_true, y_pred):\n",
    "    return np.sqrt(mse(y_true, y_pred))"
   ]
  },
  {
   "cell_type": "code",
   "execution_count": 112,
   "metadata": {},
   "outputs": [
    {
     "name": "stdout",
     "output_type": "stream",
     "text": [
      "XGB >>> 2949.27151427923\n"
     ]
    }
   ],
   "source": [
    "print('XGB >>>',rmse(y_test,xgbpred))"
   ]
  },
  {
   "cell_type": "code",
   "execution_count": 114,
   "metadata": {},
   "outputs": [],
   "source": [
    "from sklearn.ensemble import RandomForestRegressor"
   ]
  },
  {
   "cell_type": "code",
   "execution_count": 115,
   "metadata": {},
   "outputs": [],
   "source": [
    "rf = RandomForestRegressor()"
   ]
  },
  {
   "cell_type": "code",
   "execution_count": 117,
   "metadata": {},
   "outputs": [
    {
     "data": {
      "text/plain": [
       "RandomForestRegressor(bootstrap=True, ccp_alpha=0.0, criterion='mse',\n",
       "                      max_depth=None, max_features='auto', max_leaf_nodes=None,\n",
       "                      max_samples=None, min_impurity_decrease=0.0,\n",
       "                      min_impurity_split=None, min_samples_leaf=1,\n",
       "                      min_samples_split=2, min_weight_fraction_leaf=0.0,\n",
       "                      n_estimators=100, n_jobs=None, oob_score=False,\n",
       "                      random_state=None, verbose=0, warm_start=False)"
      ]
     },
     "execution_count": 117,
     "metadata": {},
     "output_type": "execute_result"
    }
   ],
   "source": [
    "rf.fit(X_train,y_train)"
   ]
  },
  {
   "cell_type": "code",
   "execution_count": 118,
   "metadata": {},
   "outputs": [],
   "source": [
    "rfpred = rf.predict(X_test)"
   ]
  },
  {
   "cell_type": "code",
   "execution_count": 119,
   "metadata": {},
   "outputs": [],
   "source": [
    "rfpred_train = rf.predict(X)"
   ]
  },
  {
   "cell_type": "code",
   "execution_count": 120,
   "metadata": {},
   "outputs": [
    {
     "name": "stdout",
     "output_type": "stream",
     "text": [
      "RF >>> 3047.5912686477436\n"
     ]
    }
   ],
   "source": [
    "print('RF >>>',rmse(y_test,rfpred))"
   ]
  },
  {
   "cell_type": "code",
   "execution_count": 121,
   "metadata": {},
   "outputs": [
    {
     "name": "stdout",
     "output_type": "stream",
     "text": [
      "RF >>> 1954.1701903747444\n"
     ]
    }
   ],
   "source": [
    "print('RF >>>',rmse(y,rfpred_train))"
   ]
  },
  {
   "cell_type": "code",
   "execution_count": null,
   "metadata": {},
   "outputs": [],
   "source": [
    " "
   ]
  }
 ],
 "metadata": {
  "kernelspec": {
   "display_name": "Python 3",
   "language": "python",
   "name": "python3"
  },
  "language_info": {
   "codemirror_mode": {
    "name": "ipython",
    "version": 3
   },
   "file_extension": ".py",
   "mimetype": "text/x-python",
   "name": "python",
   "nbconvert_exporter": "python",
   "pygments_lexer": "ipython3",
   "version": "3.7.6"
  }
 },
 "nbformat": 4,
 "nbformat_minor": 4
}
